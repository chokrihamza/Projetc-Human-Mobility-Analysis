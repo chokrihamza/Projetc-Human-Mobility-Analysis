{
 "cells": [
  {
   "cell_type": "markdown",
   "metadata": {
    "slideshow": {
     "slide_type": "slide"
    }
   },
   "source": [
    "<center><img src=\"logo_skmob.png\" width=450 align=\"left\" /></center>\n",
    "\n",
    "# Measures\n",
    "\n",
    "- Repo: [http://bit.ly/skmob_repo](http://bit.ly/skmob_repo)\n",
    "- Docs: [http://bit.ly/skmob_doc](http://bit.ly/skmob_doc)\n",
    "- Paper: [http://bit.ly/skmob_paper](http://bit.ly/skmob_paper)"
   ]
  },
  {
   "cell_type": "markdown",
   "metadata": {
    "slideshow": {
     "slide_type": "subslide"
    }
   },
   "source": [
    "We can compute on a `TrajDataFrame` two types of measures:\n",
    "\n",
    "- **individual measures**, describing features related to the mobility patterns of a single individual\n",
    "- **collective measures**, describing the mobility patterns of an entire population of individuals"
   ]
  },
  {
   "cell_type": "code",
   "execution_count": 14,
   "metadata": {
    "slideshow": {
     "slide_type": "subslide"
    }
   },
   "outputs": [],
   "source": [
    "# let's import some useful libraries\n",
    "%matplotlib inline\n",
    "from skmob import *\n",
    "import matplotlib.pyplot as plt\n",
    "from scipy.stats import gaussian_kde\n",
    "import pandas as pd\n",
    "\n",
    "from tqdm import tqdm\n",
    "import folium\n",
    "from folium.plugins import HeatMap"
   ]
  },
  {
   "cell_type": "code",
   "execution_count": 15,
   "metadata": {
    "slideshow": {
     "slide_type": "fragment"
    }
   },
   "outputs": [],
   "source": [
    "# let's import skmob's data structures\n",
    "import skmob\n",
    "from skmob import TrajDataFrame, FlowDataFrame"
   ]
  },
  {
   "cell_type": "markdown",
   "metadata": {
    "slideshow": {
     "slide_type": "slide"
    }
   },
   "source": [
    "## Loading the data\n",
    "- We load data of *checkins* made by users on **Brightkite**\n",
    "- Brightkite is a location-based social network (LBSN)\n",
    "- The dataset is freely available at the SNAP website: https://snap.stanford.edu/data/loc-brightkite.html"
   ]
  },
  {
   "cell_type": "code",
   "execution_count": null,
   "metadata": {
    "slideshow": {
     "slide_type": "subslide"
    }
   },
   "outputs": [],
   "source": [
    "# download the dataset using pandas\n",
    "url = \"https://snap.stanford.edu/data/loc-brightkite_totalCheckins.txt.gz\"\n",
    "df = pd.read_csv(url, sep='\\t', header=0, nrows=500000, \n",
    "                 names=['user', 'check-in_time', \"latitude\", \"longitude\", \n",
    "                        \"location id\"])\n",
    "\n",
    "# convert the pandas DataFrame into an skmob TrajDataFrame\n",
    "tdf = skmob.TrajDataFrame(df, latitude='latitude', \n",
    "            longitude='longitude', datetime='check-in_time', user_id='user')\n",
    "tdf.head(3)"
   ]
  },
  {
   "cell_type": "code",
   "execution_count": null,
   "metadata": {
    "scrolled": true,
    "slideshow": {
     "slide_type": "subslide"
    }
   },
   "outputs": [],
   "source": [
    "print(\"number of users:\\t\", len(tdf.uid.unique()))\n",
    "print(\"number of records:\\t\", len(tdf))"
   ]
  },
  {
   "cell_type": "markdown",
   "metadata": {
    "slideshow": {
     "slide_type": "slide"
    }
   },
   "source": [
    "# Individual measures\n",
    "\n",
    "- computed on the trajectories of a <u>single individual</u>\n",
    "- quantify standard *mobility patterns*\n",
    "- examples: \n",
    "    - radius of gyration\n",
    "    - jump lengths\n",
    "    - max distance\n",
    "    - individual mobility network"
   ]
  },
  {
   "cell_type": "markdown",
   "metadata": {
    "slideshow": {
     "slide_type": "slide"
    }
   },
   "source": [
    "## Radius of gyration $r_g$\n",
    "characteristic distance traveled by an individual:\n",
    "\n",
    "$$r_g = \\sqrt{\\frac{1}{N} \\sum_{i=1}^N (\\mathbf{r}_i - \\mathbf{r}_{cm})^2}$$\n",
    "\n",
    "$r_{cm}$ is the position vector of the *center of mass* of the set of locations visited by the individual"
   ]
  },
  {
   "cell_type": "code",
   "execution_count": null,
   "metadata": {
    "slideshow": {
     "slide_type": "slide"
    }
   },
   "outputs": [],
   "source": [
    "from skmob.measures.individual import radius_of_gyration"
   ]
  },
  {
   "cell_type": "code",
   "execution_count": 7,
   "metadata": {
    "scrolled": true,
    "slideshow": {
     "slide_type": "fragment"
    }
   },
   "outputs": [
    {
     "name": "stderr",
     "output_type": "stream",
     "text": [
      "100%|███████████████████████████████████████████████████████████████████████████████████████████| 1231/1231 [00:04<00:00, 266.28it/s]\n"
     ]
    },
    {
     "data": {
      "text/html": [
       "<div>\n",
       "<style scoped>\n",
       "    .dataframe tbody tr th:only-of-type {\n",
       "        vertical-align: middle;\n",
       "    }\n",
       "\n",
       "    .dataframe tbody tr th {\n",
       "        vertical-align: top;\n",
       "    }\n",
       "\n",
       "    .dataframe thead th {\n",
       "        text-align: right;\n",
       "    }\n",
       "</style>\n",
       "<table border=\"1\" class=\"dataframe\">\n",
       "  <thead>\n",
       "    <tr style=\"text-align: right;\">\n",
       "      <th></th>\n",
       "      <th>uid</th>\n",
       "      <th>radius_of_gyration</th>\n",
       "    </tr>\n",
       "  </thead>\n",
       "  <tbody>\n",
       "    <tr>\n",
       "      <th>0</th>\n",
       "      <td>0</td>\n",
       "      <td>1564.436792</td>\n",
       "    </tr>\n",
       "    <tr>\n",
       "      <th>1</th>\n",
       "      <td>1</td>\n",
       "      <td>2467.773523</td>\n",
       "    </tr>\n",
       "    <tr>\n",
       "      <th>2</th>\n",
       "      <td>2</td>\n",
       "      <td>1439.649774</td>\n",
       "    </tr>\n",
       "    <tr>\n",
       "      <th>3</th>\n",
       "      <td>3</td>\n",
       "      <td>1752.604191</td>\n",
       "    </tr>\n",
       "    <tr>\n",
       "      <th>4</th>\n",
       "      <td>4</td>\n",
       "      <td>5380.503250</td>\n",
       "    </tr>\n",
       "  </tbody>\n",
       "</table>\n",
       "</div>"
      ],
      "text/plain": [
       "   uid  radius_of_gyration\n",
       "0    0         1564.436792\n",
       "1    1         2467.773523\n",
       "2    2         1439.649774\n",
       "3    3         1752.604191\n",
       "4    4         5380.503250"
      ]
     },
     "execution_count": 7,
     "metadata": {},
     "output_type": "execute_result"
    }
   ],
   "source": [
    "rg_df = radius_of_gyration(tdf)\n",
    "rg_df.head()"
   ]
  },
  {
   "cell_type": "code",
   "execution_count": 8,
   "metadata": {
    "scrolled": true,
    "slideshow": {
     "slide_type": "slide"
    }
   },
   "outputs": [
    {
     "ename": "NameError",
     "evalue": "name 'lbpdf' is not defined",
     "output_type": "error",
     "traceback": [
      "\u001b[1;31m---------------------------------------------------------------------------\u001b[0m",
      "\u001b[1;31mNameError\u001b[0m                                 Traceback (most recent call last)",
      "Input \u001b[1;32mIn [8]\u001b[0m, in \u001b[0;36m<cell line: 3>\u001b[1;34m()\u001b[0m\n\u001b[0;32m      1\u001b[0m \u001b[38;5;66;03m# let's plot the distribution of the radius of gyration\u001b[39;00m\n\u001b[0;32m      2\u001b[0m fig \u001b[38;5;241m=\u001b[39m plt\u001b[38;5;241m.\u001b[39mfigure()\n\u001b[1;32m----> 3\u001b[0m x, y \u001b[38;5;241m=\u001b[39m \u001b[38;5;28mzip\u001b[39m(\u001b[38;5;241m*\u001b[39m\u001b[43mlbpdf\u001b[49m(\u001b[38;5;241m1.5\u001b[39m, \u001b[38;5;28mlist\u001b[39m(rg_df\u001b[38;5;241m.\u001b[39mradius_of_gyration[rg_df\u001b[38;5;241m.\u001b[39mradius_of_gyration \u001b[38;5;241m>\u001b[39m\u001b[38;5;241m=\u001b[39m \u001b[38;5;241m1.0\u001b[39m])))\n\u001b[0;32m      4\u001b[0m plt\u001b[38;5;241m.\u001b[39mplot(x, y, marker\u001b[38;5;241m=\u001b[39m\u001b[38;5;124m'\u001b[39m\u001b[38;5;124mo\u001b[39m\u001b[38;5;124m'\u001b[39m)\n\u001b[0;32m      5\u001b[0m plt\u001b[38;5;241m.\u001b[39mxlabel(\u001b[38;5;124m'\u001b[39m\u001b[38;5;124m$r_g$ [km]\u001b[39m\u001b[38;5;124m'\u001b[39m, fontsize\u001b[38;5;241m=\u001b[39m\u001b[38;5;241m20\u001b[39m);plt\u001b[38;5;241m.\u001b[39mylabel(\u001b[38;5;124m'\u001b[39m\u001b[38;5;124mP($r_g$)\u001b[39m\u001b[38;5;124m'\u001b[39m, fontsize\u001b[38;5;241m=\u001b[39m\u001b[38;5;241m20\u001b[39m)\n",
      "\u001b[1;31mNameError\u001b[0m: name 'lbpdf' is not defined"
     ]
    },
    {
     "data": {
      "text/plain": [
       "<Figure size 640x480 with 0 Axes>"
      ]
     },
     "metadata": {},
     "output_type": "display_data"
    }
   ],
   "source": [
    "# let's plot the distribution of the radius of gyration\n",
    "fig = plt.figure()\n",
    "x, y = zip(*lbpdf(1.5, list(rg_df.radius_of_gyration[rg_df.radius_of_gyration >= 1.0])))\n",
    "plt.plot(x, y, marker='o')\n",
    "plt.xlabel('$r_g$ [km]', fontsize=20);plt.ylabel('P($r_g$)', fontsize=20)\n",
    "plt.loglog();plt.show()"
   ]
  },
  {
   "cell_type": "markdown",
   "metadata": {
    "slideshow": {
     "slide_type": "slide"
    }
   },
   "source": [
    "## Jump lengths\n",
    "- a jump length is is the distance between two consecutive visits of an individual\n",
    "- given a `TrajDataFrame`, skmob computes the lengths for each individual independently\n",
    "- use the `jump_lengths` function"
   ]
  },
  {
   "cell_type": "code",
   "execution_count": 8,
   "metadata": {
    "slideshow": {
     "slide_type": "slide"
    }
   },
   "outputs": [],
   "source": [
    "from skmob.measures.individual import jump_lengths"
   ]
  },
  {
   "cell_type": "code",
   "execution_count": 9,
   "metadata": {
    "scrolled": true,
    "slideshow": {
     "slide_type": "fragment"
    }
   },
   "outputs": [
    {
     "name": "stderr",
     "output_type": "stream",
     "text": [
      "100%|██████████| 1231/1231 [00:06<00:00, 194.37it/s]\n"
     ]
    },
    {
     "data": {
      "text/html": [
       "<div>\n",
       "<style scoped>\n",
       "    .dataframe tbody tr th:only-of-type {\n",
       "        vertical-align: middle;\n",
       "    }\n",
       "\n",
       "    .dataframe tbody tr th {\n",
       "        vertical-align: top;\n",
       "    }\n",
       "\n",
       "    .dataframe thead th {\n",
       "        text-align: right;\n",
       "    }\n",
       "</style>\n",
       "<table border=\"1\" class=\"dataframe\">\n",
       "  <thead>\n",
       "    <tr style=\"text-align: right;\">\n",
       "      <th></th>\n",
       "      <th>uid</th>\n",
       "      <th>jump_lengths</th>\n",
       "    </tr>\n",
       "  </thead>\n",
       "  <tbody>\n",
       "    <tr>\n",
       "      <th>0</th>\n",
       "      <td>0</td>\n",
       "      <td>[19.640467328877936, 0.0, 0.0, 1.7434311010381...</td>\n",
       "    </tr>\n",
       "    <tr>\n",
       "      <th>1</th>\n",
       "      <td>1</td>\n",
       "      <td>[6.505330424378251, 46.75436600375988, 53.9284...</td>\n",
       "    </tr>\n",
       "    <tr>\n",
       "      <th>2</th>\n",
       "      <td>2</td>\n",
       "      <td>[0.0, 0.0, 0.0, 0.0, 3.6410097195943507, 0.0, ...</td>\n",
       "    </tr>\n",
       "    <tr>\n",
       "      <th>3</th>\n",
       "      <td>3</td>\n",
       "      <td>[3861.2706300798827, 4.061631313492122, 5.9163...</td>\n",
       "    </tr>\n",
       "  </tbody>\n",
       "</table>\n",
       "</div>"
      ],
      "text/plain": [
       "   uid                                       jump_lengths\n",
       "0    0  [19.640467328877936, 0.0, 0.0, 1.7434311010381...\n",
       "1    1  [6.505330424378251, 46.75436600375988, 53.9284...\n",
       "2    2  [0.0, 0.0, 0.0, 0.0, 3.6410097195943507, 0.0, ...\n",
       "3    3  [3861.2706300798827, 4.061631313492122, 5.9163..."
      ]
     },
     "execution_count": 9,
     "metadata": {},
     "output_type": "execute_result"
    }
   ],
   "source": [
    "jl_df = jump_lengths(tdf) # disable progress bar with show_progress=False\n",
    "jl_df.head(4)"
   ]
  },
  {
   "cell_type": "code",
   "execution_count": 10,
   "metadata": {
    "slideshow": {
     "slide_type": "fragment"
    }
   },
   "outputs": [
    {
     "name": "stderr",
     "output_type": "stream",
     "text": [
      "100%|██████████| 1231/1231 [00:06<00:00, 194.97it/s]\n"
     ]
    },
    {
     "data": {
      "text/plain": [
       "list"
      ]
     },
     "execution_count": 10,
     "metadata": {},
     "output_type": "execute_result"
    }
   ],
   "source": [
    "# merge=True put all distances of the individuals into a single list\n",
    "jl_list = jump_lengths(tdf, merge=True)\n",
    "type(jl_list)"
   ]
  },
  {
   "cell_type": "code",
   "execution_count": 11,
   "metadata": {
    "code_folding": [],
    "slideshow": {
     "slide_type": "slide"
    }
   },
   "outputs": [
    {
     "data": {
      "image/png": "[encoded data removed]",
      "text/plain": [
       "<Figure size 432x288 with 1 Axes>"
      ]
     },
     "metadata": {
      "needs_background": "light"
     },
     "output_type": "display_data"
    }
   ],
   "source": [
    "# let's plot the distribution of jump lengths\n",
    "fig = plt.figure()\n",
    "x, y = zip(*lbpdf(2.0, [dist for dist in jl_list[:10000] if dist >= 1]))\n",
    "plt.plot(x, y, marker='o')\n",
    "plt.grid(alpha=0.2) \n",
    "plt.xlabel('jump length [km]', fontsize=15);plt.ylabel('P(jump length)', fontsize=15)\n",
    "plt.loglog();plt.show()"
   ]
  },
  {
   "cell_type": "markdown",
   "metadata": {
    "slideshow": {
     "slide_type": "slide"
    }
   },
   "source": [
    "### Distances\n",
    "\n",
    "- maximum distance traveled by each individual `maximum_distance`\n"
   ]
  },
  {
   "cell_type": "code",
   "execution_count": 12,
   "metadata": {
    "slideshow": {
     "slide_type": "fragment"
    }
   },
   "outputs": [],
   "source": [
    "from skmob.measures.individual import max_distance_from_home, distance_straight_line, maximum_distance"
   ]
  },
  {
   "cell_type": "code",
   "execution_count": 13,
   "metadata": {
    "slideshow": {
     "slide_type": "fragment"
    }
   },
   "outputs": [
    {
     "name": "stderr",
     "output_type": "stream",
     "text": [
      "100%|██████████| 1231/1231 [00:07<00:00, 175.35it/s]\n"
     ]
    }
   ],
   "source": [
    "md_df = maximum_distance(tdf)"
   ]
  },
  {
   "cell_type": "code",
   "execution_count": 14,
   "metadata": {
    "slideshow": {
     "slide_type": "slide"
    }
   },
   "outputs": [
    {
     "name": "stderr",
     "output_type": "stream",
     "text": [
      "/Users/giannibarlacchi/Documents/workspace_python/envs/skmob/lib/python3.7/site-packages/numpy-1.16.3-py3.7-macosx-10.14-x86_64.egg/numpy/lib/histograms.py:824: RuntimeWarning: invalid value encountered in greater_equal\n",
      "  keep = (tmp_a >= first_edge)\n",
      "/Users/giannibarlacchi/Documents/workspace_python/envs/skmob/lib/python3.7/site-packages/numpy-1.16.3-py3.7-macosx-10.14-x86_64.egg/numpy/lib/histograms.py:825: RuntimeWarning: invalid value encountered in less_equal\n",
      "  keep &= (tmp_a <= last_edge)\n"
     ]
    },
    {
     "data": {
      "text/plain": [
       "Text(0.5, 0, 'max')"
      ]
     },
     "execution_count": 14,
     "metadata": {},
     "output_type": "execute_result"
    },
    {
     "data": {
      "image/png": "[encoded data removed]",
      "text/plain": [
       "<Figure size 432x288 with 1 Axes>"
      ]
     },
     "metadata": {
      "needs_background": "light"
     },
     "output_type": "display_data"
    }
   ],
   "source": [
    "# let's plot the distribution\n",
    "fig, ax1 = plt.subplots(1, 1)\n",
    "ax1.hist(md_df.maximum_distance, bins=10, rwidth=0.8)\n",
    "ax1.set_xlabel('max', fontsize=15)\n"
   ]
  },
  {
   "cell_type": "markdown",
   "metadata": {
    "slideshow": {
     "slide_type": "slide"
    }
   },
   "source": [
    "## Individual mobility network\n",
    "a network where: \n",
    "- nodes represent locations visited by the individual\n",
    "- directed edges represent trips between the locations made by the individual "
   ]
  },
  {
   "cell_type": "code",
   "execution_count": 15,
   "metadata": {
    "slideshow": {
     "slide_type": "fragment"
    }
   },
   "outputs": [],
   "source": [
    "from skmob.measures.individual import individual_mobility_network"
   ]
  },
  {
   "cell_type": "code",
   "execution_count": 16,
   "metadata": {
    "slideshow": {
     "slide_type": "slide"
    }
   },
   "outputs": [
    {
     "name": "stderr",
     "output_type": "stream",
     "text": [
      "100%|██████████| 1231/1231 [00:06<00:00, 176.36it/s]\n"
     ]
    },
    {
     "data": {
      "text/html": [
       "<div>\n",
       "<style scoped>\n",
       "    .dataframe tbody tr th:only-of-type {\n",
       "        vertical-align: middle;\n",
       "    }\n",
       "\n",
       "    .dataframe tbody tr th {\n",
       "        vertical-align: top;\n",
       "    }\n",
       "\n",
       "    .dataframe thead th {\n",
       "        text-align: right;\n",
       "    }\n",
       "</style>\n",
       "<table border=\"1\" class=\"dataframe\">\n",
       "  <thead>\n",
       "    <tr style=\"text-align: right;\">\n",
       "      <th></th>\n",
       "      <th>uid</th>\n",
       "      <th>lat_origin</th>\n",
       "      <th>lng_origin</th>\n",
       "      <th>lat_dest</th>\n",
       "      <th>lng_dest</th>\n",
       "      <th>n_trips</th>\n",
       "    </tr>\n",
       "  </thead>\n",
       "  <tbody>\n",
       "    <tr>\n",
       "      <th>0</th>\n",
       "      <td>0</td>\n",
       "      <td>37.774929</td>\n",
       "      <td>-122.419415</td>\n",
       "      <td>37.600747</td>\n",
       "      <td>-122.382376</td>\n",
       "      <td>1</td>\n",
       "    </tr>\n",
       "    <tr>\n",
       "      <th>1</th>\n",
       "      <td>0</td>\n",
       "      <td>37.600747</td>\n",
       "      <td>-122.382376</td>\n",
       "      <td>37.615223</td>\n",
       "      <td>-122.389979</td>\n",
       "      <td>1</td>\n",
       "    </tr>\n",
       "    <tr>\n",
       "      <th>2</th>\n",
       "      <td>0</td>\n",
       "      <td>37.600747</td>\n",
       "      <td>-122.382376</td>\n",
       "      <td>37.580304</td>\n",
       "      <td>-122.343679</td>\n",
       "      <td>1</td>\n",
       "    </tr>\n",
       "    <tr>\n",
       "      <th>3</th>\n",
       "      <td>0</td>\n",
       "      <td>37.615223</td>\n",
       "      <td>-122.389979</td>\n",
       "      <td>39.878664</td>\n",
       "      <td>-104.682105</td>\n",
       "      <td>1</td>\n",
       "    </tr>\n",
       "    <tr>\n",
       "      <th>4</th>\n",
       "      <td>0</td>\n",
       "      <td>37.615223</td>\n",
       "      <td>-122.389979</td>\n",
       "      <td>37.580304</td>\n",
       "      <td>-122.343679</td>\n",
       "      <td>1</td>\n",
       "    </tr>\n",
       "  </tbody>\n",
       "</table>\n",
       "</div>"
      ],
      "text/plain": [
       "   uid  lat_origin  lng_origin   lat_dest    lng_dest n_trips\n",
       "0    0   37.774929 -122.419415  37.600747 -122.382376       1\n",
       "1    0   37.600747 -122.382376  37.615223 -122.389979       1\n",
       "2    0   37.600747 -122.382376  37.580304 -122.343679       1\n",
       "3    0   37.615223 -122.389979  39.878664 -104.682105       1\n",
       "4    0   37.615223 -122.389979  37.580304 -122.343679       1"
      ]
     },
     "execution_count": 16,
     "metadata": {},
     "output_type": "execute_result"
    }
   ],
   "source": [
    "imn_df = individual_mobility_network(tdf)\n",
    "imn_df.head()"
   ]
  },
  {
   "cell_type": "code",
   "execution_count": 29,
   "metadata": {
    "slideshow": {
     "slide_type": "fragment"
    }
   },
   "outputs": [
    {
     "data": {
      "text/html": [
       "<div>\n",
       "<style scoped>\n",
       "    .dataframe tbody tr th:only-of-type {\n",
       "        vertical-align: middle;\n",
       "    }\n",
       "\n",
       "    .dataframe tbody tr th {\n",
       "        vertical-align: top;\n",
       "    }\n",
       "\n",
       "    .dataframe thead th {\n",
       "        text-align: right;\n",
       "    }\n",
       "</style>\n",
       "<table border=\"1\" class=\"dataframe\">\n",
       "  <thead>\n",
       "    <tr style=\"text-align: right;\">\n",
       "      <th></th>\n",
       "      <th>uid</th>\n",
       "      <th>lat_origin</th>\n",
       "      <th>lng_origin</th>\n",
       "      <th>lat_dest</th>\n",
       "      <th>lng_dest</th>\n",
       "      <th>n_trips</th>\n",
       "    </tr>\n",
       "  </thead>\n",
       "  <tbody>\n",
       "    <tr>\n",
       "      <th>1686</th>\n",
       "      <td>2</td>\n",
       "      <td>39.758302</td>\n",
       "      <td>-104.936129</td>\n",
       "      <td>39.802002</td>\n",
       "      <td>-105.095430</td>\n",
       "      <td>69</td>\n",
       "    </tr>\n",
       "    <tr>\n",
       "      <th>1452</th>\n",
       "      <td>2</td>\n",
       "      <td>39.802002</td>\n",
       "      <td>-105.095430</td>\n",
       "      <td>39.758302</td>\n",
       "      <td>-104.936129</td>\n",
       "      <td>59</td>\n",
       "    </tr>\n",
       "    <tr>\n",
       "      <th>1493</th>\n",
       "      <td>2</td>\n",
       "      <td>39.739154</td>\n",
       "      <td>-104.984703</td>\n",
       "      <td>39.802002</td>\n",
       "      <td>-105.095430</td>\n",
       "      <td>52</td>\n",
       "    </tr>\n",
       "    <tr>\n",
       "      <th>1446</th>\n",
       "      <td>2</td>\n",
       "      <td>39.802002</td>\n",
       "      <td>-105.095430</td>\n",
       "      <td>39.739154</td>\n",
       "      <td>-104.984703</td>\n",
       "      <td>51</td>\n",
       "    </tr>\n",
       "    <tr>\n",
       "      <th>1535</th>\n",
       "      <td>2</td>\n",
       "      <td>39.739154</td>\n",
       "      <td>-104.984703</td>\n",
       "      <td>39.818040</td>\n",
       "      <td>-105.081949</td>\n",
       "      <td>23</td>\n",
       "    </tr>\n",
       "  </tbody>\n",
       "</table>\n",
       "</div>"
      ],
      "text/plain": [
       "      uid  lat_origin  lng_origin   lat_dest    lng_dest n_trips\n",
       "1686    2   39.758302 -104.936129  39.802002 -105.095430      69\n",
       "1452    2   39.802002 -105.095430  39.758302 -104.936129      59\n",
       "1493    2   39.739154 -104.984703  39.802002 -105.095430      52\n",
       "1446    2   39.802002 -105.095430  39.739154 -104.984703      51\n",
       "1535    2   39.739154 -104.984703  39.818040 -105.081949      23"
      ]
     },
     "execution_count": 29,
     "metadata": {},
     "output_type": "execute_result"
    }
   ],
   "source": [
    "an_imn = imn_df[imn_df.uid == 2]\n",
    "an_imn.sort_values(by='n_trips', ascending=False).head(5)"
   ]
  },
  {
   "cell_type": "markdown",
   "metadata": {
    "slideshow": {
     "slide_type": "slide"
    }
   },
   "source": [
    "# Collective measures\n",
    "\n",
    "- are computed on the trajectories of a <u>population of individuals</u>\n",
    "- quantify standard *mobility patterns*\n",
    "- examples: \n",
    "    - visits per time unit\n",
    "    - origin destination matrix"
   ]
  },
  {
   "cell_type": "markdown",
   "metadata": {
    "slideshow": {
     "slide_type": "slide"
    }
   },
   "source": [
    "## Visits per location\n",
    "\n",
    "number of visits to a location made by the population of individuals"
   ]
  },
  {
   "cell_type": "code",
   "execution_count": 18,
   "metadata": {
    "slideshow": {
     "slide_type": "fragment"
    }
   },
   "outputs": [],
   "source": [
    "from skmob.measures.collective import visits_per_location"
   ]
  },
  {
   "cell_type": "code",
   "execution_count": 19,
   "metadata": {
    "slideshow": {
     "slide_type": "fragment"
    }
   },
   "outputs": [
    {
     "data": {
      "text/html": [
       "<div>\n",
       "<style scoped>\n",
       "    .dataframe tbody tr th:only-of-type {\n",
       "        vertical-align: middle;\n",
       "    }\n",
       "\n",
       "    .dataframe tbody tr th {\n",
       "        vertical-align: top;\n",
       "    }\n",
       "\n",
       "    .dataframe thead th {\n",
       "        text-align: right;\n",
       "    }\n",
       "</style>\n",
       "<table border=\"1\" class=\"dataframe\">\n",
       "  <thead>\n",
       "    <tr style=\"text-align: right;\">\n",
       "      <th></th>\n",
       "      <th>lat</th>\n",
       "      <th>lng</th>\n",
       "      <th>n_visits</th>\n",
       "    </tr>\n",
       "  </thead>\n",
       "  <tbody>\n",
       "    <tr>\n",
       "      <th>0</th>\n",
       "      <td>0.000000</td>\n",
       "      <td>0.000000</td>\n",
       "      <td>10378</td>\n",
       "    </tr>\n",
       "    <tr>\n",
       "      <th>1</th>\n",
       "      <td>39.739154</td>\n",
       "      <td>-104.984703</td>\n",
       "      <td>9958</td>\n",
       "    </tr>\n",
       "    <tr>\n",
       "      <th>2</th>\n",
       "      <td>40.014986</td>\n",
       "      <td>-105.270546</td>\n",
       "      <td>4548</td>\n",
       "    </tr>\n",
       "    <tr>\n",
       "      <th>3</th>\n",
       "      <td>37.774929</td>\n",
       "      <td>-122.419415</td>\n",
       "      <td>3615</td>\n",
       "    </tr>\n",
       "    <tr>\n",
       "      <th>4</th>\n",
       "      <td>40.714269</td>\n",
       "      <td>-74.005973</td>\n",
       "      <td>2881</td>\n",
       "    </tr>\n",
       "  </tbody>\n",
       "</table>\n",
       "</div>"
      ],
      "text/plain": [
       "         lat         lng  n_visits\n",
       "0   0.000000    0.000000     10378\n",
       "1  39.739154 -104.984703      9958\n",
       "2  40.014986 -105.270546      4548\n",
       "3  37.774929 -122.419415      3615\n",
       "4  40.714269  -74.005973      2881"
      ]
     },
     "execution_count": 19,
     "metadata": {},
     "output_type": "execute_result"
    }
   ],
   "source": [
    "vpl_df = visits_per_location(tdf)\n",
    "vpl_df.head()"
   ]
  },
  {
   "cell_type": "code",
   "execution_count": 20,
   "metadata": {
    "slideshow": {
     "slide_type": "slide"
    }
   },
   "outputs": [
    {
     "data": {
      "image/png": "[encoded data removed]",
      "text/plain": [
       "<Figure size 432x432 with 1 Axes>"
      ]
     },
     "metadata": {
      "needs_background": "light"
     },
     "output_type": "display_data"
    }
   ],
   "source": [
    "fig = plt.figure(figsize=(6, 6))\n",
    "x, y = zip(*lbpdf(1.5, list(vpl_df.n_visits)))\n",
    "plt.plot(x, y, marker='o')\n",
    "plt.xlabel('visits per location', fontsize=15)\n",
    "plt.loglog() \n",
    "plt.show()"
   ]
  },
  {
   "cell_type": "markdown",
   "metadata": {
    "slideshow": {
     "slide_type": "slide"
    }
   },
   "source": [
    "## Origin destination matrix\n",
    "\n",
    "a network where: \n",
    "- nodes represent locations visited by the population of individuals\n",
    "- directed edges represent trips between the locations made by the individuals"
   ]
  },
  {
   "cell_type": "code",
   "execution_count": 24,
   "metadata": {
    "slideshow": {
     "slide_type": "slide"
    }
   },
   "outputs": [],
   "source": [
    "from skmob.measures.collective import origin_destination_matrix"
   ]
  },
  {
   "cell_type": "code",
   "execution_count": 25,
   "metadata": {
    "slideshow": {
     "slide_type": "fragment"
    }
   },
   "outputs": [
    {
     "name": "stderr",
     "output_type": "stream",
     "text": [
      "100%|██████████| 1231/1231 [00:03<00:00, 377.06it/s]\n"
     ]
    },
    {
     "data": {
      "text/html": [
       "<div>\n",
       "<style scoped>\n",
       "    .dataframe tbody tr th:only-of-type {\n",
       "        vertical-align: middle;\n",
       "    }\n",
       "\n",
       "    .dataframe tbody tr th {\n",
       "        vertical-align: top;\n",
       "    }\n",
       "\n",
       "    .dataframe thead th {\n",
       "        text-align: right;\n",
       "    }\n",
       "</style>\n",
       "<table border=\"1\" class=\"dataframe\">\n",
       "  <thead>\n",
       "    <tr style=\"text-align: right;\">\n",
       "      <th></th>\n",
       "      <th>lat_origin</th>\n",
       "      <th>lng_origin</th>\n",
       "      <th>lat_dest</th>\n",
       "      <th>lng_dest</th>\n",
       "      <th>n_trips</th>\n",
       "    </tr>\n",
       "  </thead>\n",
       "  <tbody>\n",
       "    <tr>\n",
       "      <th>0</th>\n",
       "      <td>37.774929</td>\n",
       "      <td>-122.419415</td>\n",
       "      <td>37.600747</td>\n",
       "      <td>-122.382376</td>\n",
       "      <td>3</td>\n",
       "    </tr>\n",
       "    <tr>\n",
       "      <th>1</th>\n",
       "      <td>37.774929</td>\n",
       "      <td>-122.419415</td>\n",
       "      <td>37.630490</td>\n",
       "      <td>-122.411084</td>\n",
       "      <td>8</td>\n",
       "    </tr>\n",
       "    <tr>\n",
       "      <th>2</th>\n",
       "      <td>37.774929</td>\n",
       "      <td>-122.419415</td>\n",
       "      <td>37.584103</td>\n",
       "      <td>-122.366083</td>\n",
       "      <td>55</td>\n",
       "    </tr>\n",
       "    <tr>\n",
       "      <th>3</th>\n",
       "      <td>37.774929</td>\n",
       "      <td>-122.419415</td>\n",
       "      <td>37.613825</td>\n",
       "      <td>-122.486919</td>\n",
       "      <td>2</td>\n",
       "    </tr>\n",
       "    <tr>\n",
       "      <th>4</th>\n",
       "      <td>37.774929</td>\n",
       "      <td>-122.419415</td>\n",
       "      <td>37.654656</td>\n",
       "      <td>-122.407750</td>\n",
       "      <td>12</td>\n",
       "    </tr>\n",
       "  </tbody>\n",
       "</table>\n",
       "</div>"
      ],
      "text/plain": [
       "   lat_origin  lng_origin   lat_dest    lng_dest  n_trips\n",
       "0   37.774929 -122.419415  37.600747 -122.382376        3\n",
       "1   37.774929 -122.419415  37.630490 -122.411084        8\n",
       "2   37.774929 -122.419415  37.584103 -122.366083       55\n",
       "3   37.774929 -122.419415  37.613825 -122.486919        2\n",
       "4   37.774929 -122.419415  37.654656 -122.407750       12"
      ]
     },
     "execution_count": 25,
     "metadata": {},
     "output_type": "execute_result"
    }
   ],
   "source": [
    "od_df = origin_destination_matrix(tdf)\n",
    "od_df.head()"
   ]
  },
  {
   "cell_type": "markdown",
   "metadata": {
    "slideshow": {
     "slide_type": "subslide"
    }
   },
   "source": [
    "### Many many other measures can be computed with scikit-mobility. \n",
    "#### Just check the documentation https://scikit-mobility.github.io/scikit-mobility/reference/measures.html"
   ]
  },
  {
   "cell_type": "markdown",
   "metadata": {
    "slideshow": {
     "slide_type": "slide"
    }
   },
   "source": [
    "<center><img src=\"trackandknow_logo.png\" width=450 align=\"left\" /></center>\n",
    "\n",
    "# Car Crash prediction\n",
    "conceded by EU project Track&Know H2020 grant #780754"
   ]
  },
  {
   "cell_type": "markdown",
   "metadata": {
    "slideshow": {
     "slide_type": "subslide"
    }
   },
   "source": [
    "## The data set\n",
    "- GPS trajectories of private vehicles traveling in Tuscany\n",
    "- period of observation of 6 months\n",
    "- we know whether or not a vehicles crashed in a month"
   ]
  },
  {
   "cell_type": "markdown",
   "metadata": {},
   "source": [
    "<img src=\"https://kdd.isti.cnr.it/sites/kdd.isti.cnr.it/files/fig1.png\" width=\"600\" height=\"400\" />"
   ]
  },
  {
   "cell_type": "markdown",
   "metadata": {
    "slideshow": {
     "slide_type": "subslide"
    }
   },
   "source": [
    "## Car Crash prediction problem\n",
    "*Given the GPS trajectories of a vehicle for a month, predict <u>whether or not</u> the vehicle will crash in the next month.*"
   ]
  },
  {
   "cell_type": "markdown",
   "metadata": {},
   "source": [
    "- create sub-trajectories of length 1 month\n",
    "- extract mobility features from sub-trajectories\n",
    "- each vehicle is a row in the data set\n",
    "- label 1 indicates crash, label 0 no-crash"
   ]
  },
  {
   "cell_type": "markdown",
   "metadata": {
    "slideshow": {
     "slide_type": "subslide"
    }
   },
   "source": [
    "Some of the features:\n",
    "- number of trips\n",
    "- trips in the afternoon/morning/night\n",
    "- radius of gyration\n",
    "- quick cornerning, accelerations, speed\n",
    "- ..."
   ]
  },
  {
   "cell_type": "code",
   "execution_count": 26,
   "metadata": {
    "slideshow": {
     "slide_type": "subslide"
    }
   },
   "outputs": [],
   "source": [
    "%matplotlib inline\n",
    "import pickle\n",
    "from sklearn import tree\n",
    "import pydotplus\n",
    "from IPython.display import Image\n",
    "import pandas as pd\n",
    "import matplotlib.pyplot as plt"
   ]
  },
  {
   "cell_type": "raw",
   "metadata": {
    "slideshow": {
     "slide_type": "fragment"
    }
   },
   "source": [
    "filename = 'data/decision_tree_car_crash.pkl'\n",
    "dt_cc = pickle.load(open(filename, 'rb'))\n",
    "\n",
    "filename = 'data/attributes.pkl'\n",
    "attributes = pickle.load(open(filename, 'rb'))"
   ]
  },
  {
   "cell_type": "raw",
   "metadata": {
    "slideshow": {
     "slide_type": "subslide"
    }
   },
   "source": [
    "dot_data = tree.export_graphviz(dt_cc, out_file=None,  max_depth=4,\n",
    "                feature_names=attributes, \n",
    "                class_names=['Yes' if x == 1 else 'No' for x in dt_cc.classes_],  \n",
    "                filled=True, rounded=True, special_characters=True)  \n",
    "graph = pydotplus.graph_from_dot_data(dot_data)  \n",
    "Image(graph.create_png())"
   ]
  },
  {
   "cell_type": "markdown",
   "metadata": {
    "slideshow": {
     "slide_type": "subslide"
    }
   },
   "source": [
    "<img src=\"decision_tree.png\"/>"
   ]
  },
  {
   "cell_type": "code",
   "execution_count": null,
   "metadata": {
    "slideshow": {
     "slide_type": "subslide"
    }
   },
   "outputs": [],
   "source": [
    "d = {}\n",
    "for importance, name in sorted(zip(dt_cc.feature_importances_, attributes),reverse=True)[:20]:\n",
    "    d[name] = importance\n",
    "df_importance = pd.DataFrame.from_dict(d, orient='index')\n",
    "df_importance.plot(kind='bar', rot=90)\n",
    "plt.ylabel('feature importance', fontsize=20)\n",
    "plt.show()"
   ]
  },
  {
   "cell_type": "markdown",
   "metadata": {
    "slideshow": {
     "slide_type": "subslide"
    }
   },
   "source": [
    "<img src=\"importances.png\" width=\"600\" height=\"400\" />"
   ]
  },
  {
   "cell_type": "raw",
   "metadata": {},
   "source": [
    "Legend:\n",
    "reg -> regular\n",
    "rg -> radius of gyration\n",
    "nbr -> number\n",
    "avg -> average\n",
    "std -> standard deviation\n",
    "acc -> acceleration\n",
    "traj -> trajectory\n",
    "speed -> speed\n",
    "A, B, C, Q are different types of events +two events which are start, stop and move (while moving)\n",
    "A -> accelleration\n",
    "B -> breaking\n",
    "C -> cornering\n",
    "Q -> quick cornering\n"
   ]
  },
  {
   "cell_type": "code",
   "execution_count": null,
   "metadata": {},
   "outputs": [],
   "source": []
  }
 ],
 "metadata": {
  "anaconda-cloud": {},
  "celltoolbar": "Slideshow",
  "hide_input": false,
  "kernelspec": {
   "display_name": "Python 3 (ipykernel)",
   "language": "python",
   "name": "python3"
  },
  "language_info": {
   "codemirror_mode": {
    "name": "ipython",
    "version": 3
   },
   "file_extension": ".py",
   "mimetype": "text/x-python",
   "name": "python",
   "nbconvert_exporter": "python",
   "pygments_lexer": "ipython3",
   "version": "3.10.6"
  },
  "latex_envs": {
   "LaTeX_envs_menu_present": true,
   "autoclose": false,
   "autocomplete": true,
   "bibliofile": "biblio.bib",
   "cite_by": "apalike",
   "current_citInitial": 1,
   "eqLabelWithNumbers": true,
   "eqNumInitial": 1,
   "hotkeys": {
    "equation": "Ctrl-E",
    "itemize": "Ctrl-I"
   },
   "labels_anchors": false,
   "latex_user_defs": false,
   "report_style_numbering": true,
   "user_envs_cfg": false
  }
 },
 "nbformat": 4,
 "nbformat_minor": 1
}
