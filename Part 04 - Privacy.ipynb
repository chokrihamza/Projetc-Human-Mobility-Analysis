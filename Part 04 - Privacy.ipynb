{
 "cells": [
  {
   "cell_type": "markdown",
   "metadata": {
    "slideshow": {
     "slide_type": "slide"
    }
   },
   "source": [
    "<img src=\"logo_skmob.png\" align=\"left\" width=\"350\">\n",
    "\n",
    "# Privacy\n",
    "\n",
    "- Repo: [http://bit.ly/skmob_repo](http://bit.ly/skmob_repo)\n",
    "- Docs: [http://bit.ly/skmob_doc](http://bit.ly/skmob_doc)\n",
    "- Paper: [http://bit.ly/skmob_paper](http://bit.ly/skmob_paper)"
   ]
  },
  {
   "cell_type": "markdown",
   "metadata": {
    "pycharm": {},
    "slideshow": {
     "slide_type": "slide"
    }
   },
   "source": [
    "# **Privacy Risk Assessment**\n",
    "\n",
    "- simulate <font color=\"blue\">privacy attacks</font> \n",
    "- assess risk with a worst-case scenario framework"
   ]
  },
  {
   "cell_type": "markdown",
   "metadata": {
    "slideshow": {
     "slide_type": "subslide"
    }
   },
   "source": [
    "First, we import the necessary modules"
   ]
  },
  {
   "cell_type": "code",
   "execution_count": 1,
   "metadata": {
    "pycharm": {},
    "slideshow": {
     "slide_type": "-"
    }
   },
   "outputs": [],
   "source": [
    "from skmob.core.trajectorydataframe import TrajDataFrame\n",
    "from skmob.privacy import attacks\n",
    "import pandas as pd"
   ]
  },
  {
   "cell_type": "markdown",
   "metadata": {
    "pycharm": {},
    "slideshow": {
     "slide_type": "subslide"
    }
   },
   "source": [
    "We use a subset of **Geolife** dataset. [Download](https://www.dropbox.com/s/t47813afaz8sb34/geolife.csv.zip?dl=0) and put it in `/data`."
   ]
  },
  {
   "cell_type": "code",
   "execution_count": 2,
   "metadata": {
    "pycharm": {},
    "slideshow": {
     "slide_type": "-"
    }
   },
   "outputs": [
    {
     "name": "stdout",
     "output_type": "stream",
     "text": [
      "CPU times: user 1.52 s, sys: 144 ms, total: 1.67 s\n",
      "Wall time: 1.68 s\n"
     ]
    }
   ],
   "source": [
    "%%time\n",
    "trjs = TrajDataFrame.from_file(\n",
    "    './data/geolife_privacy_unprocessed.csv.zip', sep=',')"
   ]
  },
  {
   "cell_type": "markdown",
   "metadata": {
    "slideshow": {
     "slide_type": "subslide"
    }
   },
   "source": [
    "The original data can also be loaded using skmob:"
   ]
  },
  {
   "cell_type": "code",
   "execution_count": 3,
   "metadata": {},
   "outputs": [],
   "source": [
    "#from skmob.io.file import load_geolife_trajectories\n",
    "#trjs = load_geolife_trajectories(\"Geolife Trajectories 1.3/Data/\")."
   ]
  },
  {
   "cell_type": "markdown",
   "metadata": {
    "heading_collapsed": true,
    "slideshow": {
     "slide_type": "slide"
    }
   },
   "source": [
    "## Preprocessing"
   ]
  },
  {
   "cell_type": "markdown",
   "metadata": {
    "hidden": true
   },
   "source": [
    "- Generalization and deletion are common ways data holders use to prepare data for sharing/release. \n",
    "- Unprocessed data has a granularity that can lead to high levels of privacy risk."
   ]
  },
  {
   "cell_type": "markdown",
   "metadata": {
    "heading_collapsed": true,
    "hidden": true,
    "slideshow": {
     "slide_type": "subslide"
    }
   },
   "source": [
    "### 1. Trajectory Filtering"
   ]
  },
  {
   "cell_type": "code",
   "execution_count": 4,
   "metadata": {
    "hidden": true
   },
   "outputs": [
    {
     "name": "stdout",
     "output_type": "stream",
     "text": [
      "CPU times: user 26.7 s, sys: 455 ms, total: 27.2 s\n",
      "Wall time: 27.2 s\n"
     ]
    }
   ],
   "source": [
    "%%time\n",
    "from skmob.preprocessing import filtering\n",
    "ftrjs = filtering.filter(trjs, max_speed_kmh=500.)"
   ]
  },
  {
   "cell_type": "code",
   "execution_count": 5,
   "metadata": {
    "hidden": true,
    "slideshow": {
     "slide_type": "fragment"
    }
   },
   "outputs": [
    {
     "data": {
      "text/html": [
       "<div>\n",
       "<style scoped>\n",
       "    .dataframe tbody tr th:only-of-type {\n",
       "        vertical-align: middle;\n",
       "    }\n",
       "\n",
       "    .dataframe tbody tr th {\n",
       "        vertical-align: top;\n",
       "    }\n",
       "\n",
       "    .dataframe thead th {\n",
       "        text-align: right;\n",
       "    }\n",
       "</style>\n",
       "<table border=\"1\" class=\"dataframe\">\n",
       "  <thead>\n",
       "    <tr style=\"text-align: right;\">\n",
       "      <th></th>\n",
       "      <th>Unnamed: 0</th>\n",
       "      <th>datetime</th>\n",
       "      <th>lat</th>\n",
       "      <th>lng</th>\n",
       "      <th>uid</th>\n",
       "    </tr>\n",
       "  </thead>\n",
       "  <tbody>\n",
       "    <tr>\n",
       "      <th>0</th>\n",
       "      <td>485357</td>\n",
       "      <td>2011-10-17 13:33:43</td>\n",
       "      <td>39.971777</td>\n",
       "      <td>116.313195</td>\n",
       "      <td>102</td>\n",
       "    </tr>\n",
       "    <tr>\n",
       "      <th>1</th>\n",
       "      <td>485358</td>\n",
       "      <td>2011-10-17 13:33:48</td>\n",
       "      <td>39.971700</td>\n",
       "      <td>116.313113</td>\n",
       "      <td>102</td>\n",
       "    </tr>\n",
       "    <tr>\n",
       "      <th>2</th>\n",
       "      <td>485359</td>\n",
       "      <td>2011-10-17 13:33:53</td>\n",
       "      <td>39.971582</td>\n",
       "      <td>116.313028</td>\n",
       "      <td>102</td>\n",
       "    </tr>\n",
       "    <tr>\n",
       "      <th>3</th>\n",
       "      <td>485360</td>\n",
       "      <td>2011-10-17 13:33:58</td>\n",
       "      <td>39.971440</td>\n",
       "      <td>116.313080</td>\n",
       "      <td>102</td>\n",
       "    </tr>\n",
       "    <tr>\n",
       "      <th>4</th>\n",
       "      <td>485361</td>\n",
       "      <td>2011-10-17 13:34:03</td>\n",
       "      <td>39.971305</td>\n",
       "      <td>116.313150</td>\n",
       "      <td>102</td>\n",
       "    </tr>\n",
       "  </tbody>\n",
       "</table>\n",
       "</div>"
      ],
      "text/plain": [
       "   Unnamed: 0            datetime        lat         lng  uid\n",
       "0      485357 2011-10-17 13:33:43  39.971777  116.313195  102\n",
       "1      485358 2011-10-17 13:33:48  39.971700  116.313113  102\n",
       "2      485359 2011-10-17 13:33:53  39.971582  116.313028  102\n",
       "3      485360 2011-10-17 13:33:58  39.971440  116.313080  102\n",
       "4      485361 2011-10-17 13:34:03  39.971305  116.313150  102"
      ]
     },
     "execution_count": 5,
     "metadata": {},
     "output_type": "execute_result"
    }
   ],
   "source": [
    "ftrjs.head()"
   ]
  },
  {
   "cell_type": "markdown",
   "metadata": {
    "heading_collapsed": true,
    "hidden": true,
    "slideshow": {
     "slide_type": "subslide"
    }
   },
   "source": [
    "### 2. Trajectory Compression"
   ]
  },
  {
   "cell_type": "code",
   "execution_count": 6,
   "metadata": {
    "hidden": true,
    "slideshow": {
     "slide_type": "-"
    }
   },
   "outputs": [
    {
     "name": "stdout",
     "output_type": "stream",
     "text": [
      "CPU times: user 12 s, sys: 280 ms, total: 12.3 s\n",
      "Wall time: 12.3 s\n"
     ]
    }
   ],
   "source": [
    "%%time\n",
    "from skmob.preprocessing import compression\n",
    "ctrjs = compression.compress(ftrjs, spatial_radius_km=0.2)"
   ]
  },
  {
   "cell_type": "code",
   "execution_count": 7,
   "metadata": {
    "hidden": true,
    "slideshow": {
     "slide_type": "fragment"
    }
   },
   "outputs": [
    {
     "data": {
      "text/html": [
       "<div>\n",
       "<style scoped>\n",
       "    .dataframe tbody tr th:only-of-type {\n",
       "        vertical-align: middle;\n",
       "    }\n",
       "\n",
       "    .dataframe tbody tr th {\n",
       "        vertical-align: top;\n",
       "    }\n",
       "\n",
       "    .dataframe thead th {\n",
       "        text-align: right;\n",
       "    }\n",
       "</style>\n",
       "<table border=\"1\" class=\"dataframe\">\n",
       "  <thead>\n",
       "    <tr style=\"text-align: right;\">\n",
       "      <th></th>\n",
       "      <th>Unnamed: 0</th>\n",
       "      <th>datetime</th>\n",
       "      <th>lat</th>\n",
       "      <th>lng</th>\n",
       "      <th>uid</th>\n",
       "    </tr>\n",
       "  </thead>\n",
       "  <tbody>\n",
       "    <tr>\n",
       "      <th>0</th>\n",
       "      <td>485368</td>\n",
       "      <td>2011-10-17 13:33:43</td>\n",
       "      <td>39.971176</td>\n",
       "      <td>116.313197</td>\n",
       "      <td>102</td>\n",
       "    </tr>\n",
       "    <tr>\n",
       "      <th>1</th>\n",
       "      <td>485379</td>\n",
       "      <td>2011-10-17 13:34:43</td>\n",
       "      <td>39.969097</td>\n",
       "      <td>116.313977</td>\n",
       "      <td>102</td>\n",
       "    </tr>\n",
       "    <tr>\n",
       "      <th>2</th>\n",
       "      <td>485390</td>\n",
       "      <td>2011-10-17 13:35:38</td>\n",
       "      <td>39.967327</td>\n",
       "      <td>116.315023</td>\n",
       "      <td>102</td>\n",
       "    </tr>\n",
       "    <tr>\n",
       "      <th>3</th>\n",
       "      <td>485423</td>\n",
       "      <td>2011-10-17 13:36:33</td>\n",
       "      <td>39.965143</td>\n",
       "      <td>116.315450</td>\n",
       "      <td>102</td>\n",
       "    </tr>\n",
       "    <tr>\n",
       "      <th>4</th>\n",
       "      <td>485436</td>\n",
       "      <td>2011-10-17 13:39:13</td>\n",
       "      <td>39.963563</td>\n",
       "      <td>116.316313</td>\n",
       "      <td>102</td>\n",
       "    </tr>\n",
       "  </tbody>\n",
       "</table>\n",
       "</div>"
      ],
      "text/plain": [
       "   Unnamed: 0            datetime        lat         lng  uid\n",
       "0      485368 2011-10-17 13:33:43  39.971176  116.313197  102\n",
       "1      485379 2011-10-17 13:34:43  39.969097  116.313977  102\n",
       "2      485390 2011-10-17 13:35:38  39.967327  116.315023  102\n",
       "3      485423 2011-10-17 13:36:33  39.965143  116.315450  102\n",
       "4      485436 2011-10-17 13:39:13  39.963563  116.316313  102"
      ]
     },
     "execution_count": 7,
     "metadata": {},
     "output_type": "execute_result"
    }
   ],
   "source": [
    "ctrjs.head()"
   ]
  },
  {
   "cell_type": "markdown",
   "metadata": {
    "heading_collapsed": true,
    "hidden": true,
    "slideshow": {
     "slide_type": "subslide"
    }
   },
   "source": [
    "### 3. Stop Detection"
   ]
  },
  {
   "cell_type": "code",
   "execution_count": 8,
   "metadata": {
    "hidden": true,
    "slideshow": {
     "slide_type": "-"
    }
   },
   "outputs": [
    {
     "name": "stdout",
     "output_type": "stream",
     "text": [
      "CPU times: user 2.59 s, sys: 33 ms, total: 2.62 s\n",
      "Wall time: 2.63 s\n"
     ]
    }
   ],
   "source": [
    "%%time\n",
    "from skmob.preprocessing import detection\n",
    "strjs = detection.stops(ctrjs, stop_radius_factor=0.8, \\\n",
    "            minutes_for_a_stop=30.0, spatial_radius_km=0.5, \n",
    "            leaving_time=True)"
   ]
  },
  {
   "cell_type": "code",
   "execution_count": 9,
   "metadata": {
    "hidden": true,
    "slideshow": {
     "slide_type": "fragment"
    }
   },
   "outputs": [
    {
     "data": {
      "text/html": [
       "<div>\n",
       "<style scoped>\n",
       "    .dataframe tbody tr th:only-of-type {\n",
       "        vertical-align: middle;\n",
       "    }\n",
       "\n",
       "    .dataframe tbody tr th {\n",
       "        vertical-align: top;\n",
       "    }\n",
       "\n",
       "    .dataframe thead th {\n",
       "        text-align: right;\n",
       "    }\n",
       "</style>\n",
       "<table border=\"1\" class=\"dataframe\">\n",
       "  <thead>\n",
       "    <tr style=\"text-align: right;\">\n",
       "      <th></th>\n",
       "      <th>Unnamed: 0</th>\n",
       "      <th>datetime</th>\n",
       "      <th>lat</th>\n",
       "      <th>lng</th>\n",
       "      <th>uid</th>\n",
       "      <th>leaving_datetime</th>\n",
       "    </tr>\n",
       "  </thead>\n",
       "  <tbody>\n",
       "    <tr>\n",
       "      <th>0</th>\n",
       "      <td>485509</td>\n",
       "      <td>2011-10-17 13:43:18</td>\n",
       "      <td>39.964063</td>\n",
       "      <td>116.324977</td>\n",
       "      <td>102</td>\n",
       "      <td>2011-10-18 00:45:25</td>\n",
       "    </tr>\n",
       "    <tr>\n",
       "      <th>1</th>\n",
       "      <td>487631</td>\n",
       "      <td>2011-10-18 00:57:15</td>\n",
       "      <td>39.978697</td>\n",
       "      <td>116.304820</td>\n",
       "      <td>102</td>\n",
       "      <td>2011-10-19 00:50:41</td>\n",
       "    </tr>\n",
       "    <tr>\n",
       "      <th>2</th>\n",
       "      <td>482326</td>\n",
       "      <td>2011-10-19 01:16:56</td>\n",
       "      <td>39.978341</td>\n",
       "      <td>116.303477</td>\n",
       "      <td>102</td>\n",
       "      <td>2011-10-20 22:25:05</td>\n",
       "    </tr>\n",
       "  </tbody>\n",
       "</table>\n",
       "</div>"
      ],
      "text/plain": [
       "   Unnamed: 0            datetime        lat         lng  uid  \\\n",
       "0      485509 2011-10-17 13:43:18  39.964063  116.324977  102   \n",
       "1      487631 2011-10-18 00:57:15  39.978697  116.304820  102   \n",
       "2      482326 2011-10-19 01:16:56  39.978341  116.303477  102   \n",
       "\n",
       "     leaving_datetime  \n",
       "0 2011-10-18 00:45:25  \n",
       "1 2011-10-19 00:50:41  \n",
       "2 2011-10-20 22:25:05  "
      ]
     },
     "execution_count": 9,
     "metadata": {},
     "output_type": "execute_result"
    }
   ],
   "source": [
    "strjs.head(3)"
   ]
  },
  {
   "cell_type": "markdown",
   "metadata": {
    "heading_collapsed": true,
    "hidden": true,
    "slideshow": {
     "slide_type": "subslide"
    }
   },
   "source": [
    "### 4. Clustering Trajectories\n",
    "Clustering helps with generalization, thus reducing privacy risk."
   ]
  },
  {
   "cell_type": "code",
   "execution_count": 10,
   "metadata": {
    "hidden": true
   },
   "outputs": [
    {
     "data": {
      "text/html": [
       "<div>\n",
       "<style scoped>\n",
       "    .dataframe tbody tr th:only-of-type {\n",
       "        vertical-align: middle;\n",
       "    }\n",
       "\n",
       "    .dataframe tbody tr th {\n",
       "        vertical-align: top;\n",
       "    }\n",
       "\n",
       "    .dataframe thead th {\n",
       "        text-align: right;\n",
       "    }\n",
       "</style>\n",
       "<table border=\"1\" class=\"dataframe\">\n",
       "  <thead>\n",
       "    <tr style=\"text-align: right;\">\n",
       "      <th></th>\n",
       "      <th>Unnamed: 0</th>\n",
       "      <th>datetime</th>\n",
       "      <th>lat</th>\n",
       "      <th>lng</th>\n",
       "      <th>uid</th>\n",
       "      <th>leaving_datetime</th>\n",
       "      <th>cluster</th>\n",
       "    </tr>\n",
       "  </thead>\n",
       "  <tbody>\n",
       "    <tr>\n",
       "      <th>0</th>\n",
       "      <td>485509</td>\n",
       "      <td>2011-10-17 13:43:18</td>\n",
       "      <td>39.964063</td>\n",
       "      <td>116.324977</td>\n",
       "      <td>102</td>\n",
       "      <td>2011-10-18 00:45:25</td>\n",
       "      <td>10</td>\n",
       "    </tr>\n",
       "    <tr>\n",
       "      <th>1</th>\n",
       "      <td>487631</td>\n",
       "      <td>2011-10-18 00:57:15</td>\n",
       "      <td>39.978697</td>\n",
       "      <td>116.304820</td>\n",
       "      <td>102</td>\n",
       "      <td>2011-10-19 00:50:41</td>\n",
       "      <td>0</td>\n",
       "    </tr>\n",
       "    <tr>\n",
       "      <th>2</th>\n",
       "      <td>482326</td>\n",
       "      <td>2011-10-19 01:16:56</td>\n",
       "      <td>39.978341</td>\n",
       "      <td>116.303477</td>\n",
       "      <td>102</td>\n",
       "      <td>2011-10-20 22:25:05</td>\n",
       "      <td>0</td>\n",
       "    </tr>\n",
       "  </tbody>\n",
       "</table>\n",
       "</div>"
      ],
      "text/plain": [
       "   Unnamed: 0            datetime        lat         lng  uid  \\\n",
       "0      485509 2011-10-17 13:43:18  39.964063  116.324977  102   \n",
       "1      487631 2011-10-18 00:57:15  39.978697  116.304820  102   \n",
       "2      482326 2011-10-19 01:16:56  39.978341  116.303477  102   \n",
       "\n",
       "     leaving_datetime  cluster  \n",
       "0 2011-10-18 00:45:25       10  \n",
       "1 2011-10-19 00:50:41        0  \n",
       "2 2011-10-20 22:25:05        0  "
      ]
     },
     "execution_count": 10,
     "metadata": {},
     "output_type": "execute_result"
    }
   ],
   "source": [
    "from skmob.preprocessing import clustering\n",
    "clust_trjs = clustering.cluster(strjs, cluster_radius_km=0.5, min_samples=1)\n",
    "clust_trjs.head(3)"
   ]
  },
  {
   "cell_type": "code",
   "execution_count": 11,
   "metadata": {
    "hidden": true,
    "slideshow": {
     "slide_type": "fragment"
    }
   },
   "outputs": [
    {
     "data": {
      "text/plain": [
       "80"
      ]
     },
     "execution_count": 11,
     "metadata": {},
     "output_type": "execute_result"
    }
   ],
   "source": [
    "len(pd.unique(clust_trjs[\"cluster\"]))"
   ]
  },
  {
   "cell_type": "markdown",
   "metadata": {
    "hidden": true,
    "slideshow": {
     "slide_type": "subslide"
    }
   },
   "source": [
    "Compute the clusters' centroid and merge with the original data"
   ]
  },
  {
   "cell_type": "code",
   "execution_count": 12,
   "metadata": {
    "hidden": true
   },
   "outputs": [],
   "source": [
    "centroids = clust_trjs.groupby(\"cluster\").mean().reset_index()\n",
    "centroids = centroids.rename(columns={\"uid\":\"wrong_uid\"})\n",
    "centroids_traj = clust_trjs.rename(columns={\"lat\":\"latitude\",\"lng\":\"longitude\"})\n",
    "centroids_traj = pd.merge(centroids_traj,centroids,left_on=\"cluster\",right_on=\"cluster\")\n",
    "privacy_trjs = centroids_traj[[\"datetime\",\"lat\",\"lng\",\"uid\"]]"
   ]
  },
  {
   "cell_type": "markdown",
   "metadata": {
    "hidden": true,
    "slideshow": {
     "slide_type": "subslide"
    }
   },
   "source": [
    "Save the processed data to save time"
   ]
  },
  {
   "cell_type": "code",
   "execution_count": 13,
   "metadata": {
    "hidden": true
   },
   "outputs": [],
   "source": [
    "privacy_trjs.to_csv(\"data/geolife_privacy.csv\",index=False)"
   ]
  },
  {
   "cell_type": "code",
   "execution_count": 14,
   "metadata": {
    "hidden": true,
    "slideshow": {
     "slide_type": "fragment"
    }
   },
   "outputs": [],
   "source": [
    "privacy_trjs = TrajDataFrame.from_file(\"data/geolife_privacy.csv\")"
   ]
  },
  {
   "cell_type": "markdown",
   "metadata": {
    "heading_collapsed": true,
    "pycharm": {},
    "slideshow": {
     "slide_type": "slide"
    }
   },
   "source": [
    "## Setting up attacks\n",
    "Each attack model is a class inheriting from the `Attack` class. \n",
    "\n",
    "To instatiante an attack model by specifying `knowledge_length`, i.e., the length of the background knowledge."
   ]
  },
  {
   "cell_type": "code",
   "execution_count": 15,
   "metadata": {
    "hidden": true
   },
   "outputs": [],
   "source": [
    "at = attacks.LocationFrequencyAttack(knowledge_length=2,tolerance=0.5)"
   ]
  },
  {
   "cell_type": "markdown",
   "metadata": {
    "hidden": true,
    "pycharm": {},
    "slideshow": {
     "slide_type": "subslide"
    }
   },
   "source": [
    "To compute privacy risk for all users, use method `assess_risk`. "
   ]
  },
  {
   "cell_type": "code",
   "execution_count": 16,
   "metadata": {
    "hidden": true
   },
   "outputs": [
    {
     "name": "stderr",
     "output_type": "stream",
     "text": [
      "computing risk: 100%|██████████| 20/20 [00:51<00:00,  2.31s/it]\n"
     ]
    }
   ],
   "source": [
    "r2 = at.assess_risk(privacy_trjs, show_progress=True)"
   ]
  },
  {
   "cell_type": "code",
   "execution_count": 17,
   "metadata": {
    "hidden": true,
    "slideshow": {
     "slide_type": "subslide"
    }
   },
   "outputs": [
    {
     "data": {
      "text/html": [
       "<div>\n",
       "<style scoped>\n",
       "    .dataframe tbody tr th:only-of-type {\n",
       "        vertical-align: middle;\n",
       "    }\n",
       "\n",
       "    .dataframe tbody tr th {\n",
       "        vertical-align: top;\n",
       "    }\n",
       "\n",
       "    .dataframe thead th {\n",
       "        text-align: right;\n",
       "    }\n",
       "</style>\n",
       "<table border=\"1\" class=\"dataframe\">\n",
       "  <thead>\n",
       "    <tr style=\"text-align: right;\">\n",
       "      <th></th>\n",
       "      <th>uid</th>\n",
       "      <th>risk</th>\n",
       "    </tr>\n",
       "  </thead>\n",
       "  <tbody>\n",
       "    <tr>\n",
       "      <th>0</th>\n",
       "      <td>102</td>\n",
       "      <td>0.500000</td>\n",
       "    </tr>\n",
       "    <tr>\n",
       "      <th>1</th>\n",
       "      <td>103</td>\n",
       "      <td>1.000000</td>\n",
       "    </tr>\n",
       "    <tr>\n",
       "      <th>2</th>\n",
       "      <td>104</td>\n",
       "      <td>1.000000</td>\n",
       "    </tr>\n",
       "    <tr>\n",
       "      <th>3</th>\n",
       "      <td>105</td>\n",
       "      <td>1.000000</td>\n",
       "    </tr>\n",
       "    <tr>\n",
       "      <th>4</th>\n",
       "      <td>132</td>\n",
       "      <td>0.333333</td>\n",
       "    </tr>\n",
       "  </tbody>\n",
       "</table>\n",
       "</div>"
      ],
      "text/plain": [
       "   uid      risk\n",
       "0  102  0.500000\n",
       "1  103  1.000000\n",
       "2  104  1.000000\n",
       "3  105  1.000000\n",
       "4  132  0.333333"
      ]
     },
     "execution_count": 17,
     "metadata": {},
     "output_type": "execute_result"
    }
   ],
   "source": [
    "r2.head()"
   ]
  },
  {
   "cell_type": "markdown",
   "metadata": {
    "slideshow": {
     "slide_type": "subslide"
    }
   },
   "source": [
    "Risk assessment is both data dependent and application dependent. Let's suppose that we decide that a risk less than 1 is acceptable."
   ]
  },
  {
   "cell_type": "code",
   "execution_count": 18,
   "metadata": {
    "hidden": true,
    "slideshow": {
     "slide_type": "fragment"
    }
   },
   "outputs": [
    {
     "data": {
      "text/html": [
       "<div>\n",
       "<style scoped>\n",
       "    .dataframe tbody tr th:only-of-type {\n",
       "        vertical-align: middle;\n",
       "    }\n",
       "\n",
       "    .dataframe tbody tr th {\n",
       "        vertical-align: top;\n",
       "    }\n",
       "\n",
       "    .dataframe thead th {\n",
       "        text-align: right;\n",
       "    }\n",
       "</style>\n",
       "<table border=\"1\" class=\"dataframe\">\n",
       "  <thead>\n",
       "    <tr style=\"text-align: right;\">\n",
       "      <th></th>\n",
       "      <th>uid</th>\n",
       "      <th>risk</th>\n",
       "    </tr>\n",
       "  </thead>\n",
       "  <tbody>\n",
       "    <tr>\n",
       "      <th>0</th>\n",
       "      <td>102</td>\n",
       "      <td>0.500000</td>\n",
       "    </tr>\n",
       "    <tr>\n",
       "      <th>4</th>\n",
       "      <td>132</td>\n",
       "      <td>0.333333</td>\n",
       "    </tr>\n",
       "    <tr>\n",
       "      <th>5</th>\n",
       "      <td>133</td>\n",
       "      <td>0.250000</td>\n",
       "    </tr>\n",
       "    <tr>\n",
       "      <th>7</th>\n",
       "      <td>135</td>\n",
       "      <td>0.500000</td>\n",
       "    </tr>\n",
       "    <tr>\n",
       "      <th>8</th>\n",
       "      <td>150</td>\n",
       "      <td>0.333333</td>\n",
       "    </tr>\n",
       "    <tr>\n",
       "      <th>10</th>\n",
       "      <td>156</td>\n",
       "      <td>0.333333</td>\n",
       "    </tr>\n",
       "    <tr>\n",
       "      <th>12</th>\n",
       "      <td>158</td>\n",
       "      <td>0.500000</td>\n",
       "    </tr>\n",
       "    <tr>\n",
       "      <th>13</th>\n",
       "      <td>159</td>\n",
       "      <td>0.500000</td>\n",
       "    </tr>\n",
       "    <tr>\n",
       "      <th>14</th>\n",
       "      <td>160</td>\n",
       "      <td>0.500000</td>\n",
       "    </tr>\n",
       "    <tr>\n",
       "      <th>15</th>\n",
       "      <td>161</td>\n",
       "      <td>0.500000</td>\n",
       "    </tr>\n",
       "    <tr>\n",
       "      <th>16</th>\n",
       "      <td>166</td>\n",
       "      <td>0.166667</td>\n",
       "    </tr>\n",
       "    <tr>\n",
       "      <th>19</th>\n",
       "      <td>169</td>\n",
       "      <td>0.333333</td>\n",
       "    </tr>\n",
       "  </tbody>\n",
       "</table>\n",
       "</div>"
      ],
      "text/plain": [
       "    uid      risk\n",
       "0   102  0.500000\n",
       "4   132  0.333333\n",
       "5   133  0.250000\n",
       "7   135  0.500000\n",
       "8   150  0.333333\n",
       "10  156  0.333333\n",
       "12  158  0.500000\n",
       "13  159  0.500000\n",
       "14  160  0.500000\n",
       "15  161  0.500000\n",
       "16  166  0.166667\n",
       "19  169  0.333333"
      ]
     },
     "execution_count": 18,
     "metadata": {},
     "output_type": "execute_result"
    }
   ],
   "source": [
    "r2[r2[\"risk\"] < 1]"
   ]
  },
  {
   "cell_type": "markdown",
   "metadata": {
    "heading_collapsed": true,
    "pycharm": {},
    "slideshow": {
     "slide_type": "slide"
    }
   },
   "source": [
    "## Assessment options\n",
    "change the size of the background knowledge with `knowledge_length`, or instantiate a new attack model."
   ]
  },
  {
   "cell_type": "code",
   "execution_count": 19,
   "metadata": {
    "hidden": true,
    "pycharm": {},
    "slideshow": {
     "slide_type": "-"
    }
   },
   "outputs": [
    {
     "name": "stderr",
     "output_type": "stream",
     "text": [
      "computing risk: 100%|██████████| 20/20 [00:57<00:00,  2.58s/it]\n"
     ]
    }
   ],
   "source": [
    "at.knowledge_length = 3\n",
    "r3 = at.assess_risk(privacy_trjs, show_progress=True)"
   ]
  },
  {
   "cell_type": "markdown",
   "metadata": {
    "slideshow": {
     "slide_type": "subslide"
    }
   },
   "source": [
    "We can now see that risk changes. We can thus perform a systematic analysis of risk changing the background knowledge."
   ]
  },
  {
   "cell_type": "code",
   "execution_count": 20,
   "metadata": {
    "hidden": true,
    "slideshow": {
     "slide_type": "fragment"
    }
   },
   "outputs": [
    {
     "data": {
      "text/html": [
       "<div>\n",
       "<style scoped>\n",
       "    .dataframe tbody tr th:only-of-type {\n",
       "        vertical-align: middle;\n",
       "    }\n",
       "\n",
       "    .dataframe tbody tr th {\n",
       "        vertical-align: top;\n",
       "    }\n",
       "\n",
       "    .dataframe thead th {\n",
       "        text-align: right;\n",
       "    }\n",
       "</style>\n",
       "<table border=\"1\" class=\"dataframe\">\n",
       "  <thead>\n",
       "    <tr style=\"text-align: right;\">\n",
       "      <th></th>\n",
       "      <th>uid</th>\n",
       "      <th>risk</th>\n",
       "    </tr>\n",
       "  </thead>\n",
       "  <tbody>\n",
       "    <tr>\n",
       "      <th>4</th>\n",
       "      <td>132</td>\n",
       "      <td>0.500000</td>\n",
       "    </tr>\n",
       "    <tr>\n",
       "      <th>5</th>\n",
       "      <td>133</td>\n",
       "      <td>0.333333</td>\n",
       "    </tr>\n",
       "    <tr>\n",
       "      <th>8</th>\n",
       "      <td>150</td>\n",
       "      <td>0.500000</td>\n",
       "    </tr>\n",
       "    <tr>\n",
       "      <th>10</th>\n",
       "      <td>156</td>\n",
       "      <td>0.333333</td>\n",
       "    </tr>\n",
       "    <tr>\n",
       "      <th>13</th>\n",
       "      <td>159</td>\n",
       "      <td>0.500000</td>\n",
       "    </tr>\n",
       "    <tr>\n",
       "      <th>15</th>\n",
       "      <td>161</td>\n",
       "      <td>0.500000</td>\n",
       "    </tr>\n",
       "    <tr>\n",
       "      <th>16</th>\n",
       "      <td>166</td>\n",
       "      <td>0.200000</td>\n",
       "    </tr>\n",
       "    <tr>\n",
       "      <th>19</th>\n",
       "      <td>169</td>\n",
       "      <td>0.500000</td>\n",
       "    </tr>\n",
       "  </tbody>\n",
       "</table>\n",
       "</div>"
      ],
      "text/plain": [
       "    uid      risk\n",
       "4   132  0.500000\n",
       "5   133  0.333333\n",
       "8   150  0.500000\n",
       "10  156  0.333333\n",
       "13  159  0.500000\n",
       "15  161  0.500000\n",
       "16  166  0.200000\n",
       "19  169  0.500000"
      ]
     },
     "execution_count": 20,
     "metadata": {},
     "output_type": "execute_result"
    }
   ],
   "source": [
    "r3[r3[\"risk\"] < 1]"
   ]
  },
  {
   "cell_type": "markdown",
   "metadata": {
    "hidden": true,
    "pycharm": {},
    "slideshow": {
     "slide_type": "subslide"
    }
   },
   "source": [
    "- Not all background knowledge instances may be evaluated during the assessment: if an instance has risk 1.0, the following combinations are discarded.\n",
    "\n",
    "- To show all possible instances, use the `force_instances` parameter (requires long times and high memory usage).\n",
    "\n",
    "- Combinations are identified by `instance` and elements in the instance by `instance_elem`. "
   ]
  },
  {
   "cell_type": "markdown",
   "metadata": {
    "hidden": true,
    "pycharm": {},
    "slideshow": {
     "slide_type": "subslide"
    }
   },
   "source": [
    "- Use the option `targets` to specify the subset of the individuals on which to perform privacy risk assessment. \n",
    "\n",
    "- To check on the progress, we can use the `show_progress` attribute"
   ]
  },
  {
   "cell_type": "code",
   "execution_count": 21,
   "metadata": {
    "hidden": true,
    "pycharm": {},
    "scrolled": true,
    "slideshow": {
     "slide_type": "slide"
    }
   },
   "outputs": [
    {
     "name": "stderr",
     "output_type": "stream",
     "text": [
      "computing risk: 100%|██████████| 1/1 [00:13<00:00, 13.60s/it]\n"
     ]
    },
    {
     "data": {
      "text/html": [
       "<div>\n",
       "<style scoped>\n",
       "    .dataframe tbody tr th:only-of-type {\n",
       "        vertical-align: middle;\n",
       "    }\n",
       "\n",
       "    .dataframe tbody tr th {\n",
       "        vertical-align: top;\n",
       "    }\n",
       "\n",
       "    .dataframe thead th {\n",
       "        text-align: right;\n",
       "    }\n",
       "</style>\n",
       "<table border=\"1\" class=\"dataframe\">\n",
       "  <thead>\n",
       "    <tr style=\"text-align: right;\">\n",
       "      <th></th>\n",
       "      <th>lat</th>\n",
       "      <th>lng</th>\n",
       "      <th>datetime</th>\n",
       "      <th>uid</th>\n",
       "      <th>instance</th>\n",
       "      <th>instance_elem</th>\n",
       "      <th>prob</th>\n",
       "    </tr>\n",
       "  </thead>\n",
       "  <tbody>\n",
       "    <tr>\n",
       "      <th>0</th>\n",
       "      <td>102.0</td>\n",
       "      <td>37.068910</td>\n",
       "      <td>114.098359</td>\n",
       "      <td>1.0</td>\n",
       "      <td>1</td>\n",
       "      <td>1</td>\n",
       "      <td>0.166667</td>\n",
       "    </tr>\n",
       "    <tr>\n",
       "      <th>1</th>\n",
       "      <td>102.0</td>\n",
       "      <td>37.419688</td>\n",
       "      <td>114.507235</td>\n",
       "      <td>1.0</td>\n",
       "      <td>1</td>\n",
       "      <td>2</td>\n",
       "      <td>0.166667</td>\n",
       "    </tr>\n",
       "    <tr>\n",
       "      <th>2</th>\n",
       "      <td>102.0</td>\n",
       "      <td>37.774137</td>\n",
       "      <td>115.553705</td>\n",
       "      <td>1.0</td>\n",
       "      <td>1</td>\n",
       "      <td>3</td>\n",
       "      <td>0.166667</td>\n",
       "    </tr>\n",
       "    <tr>\n",
       "      <th>3</th>\n",
       "      <td>102.0</td>\n",
       "      <td>37.068910</td>\n",
       "      <td>114.098359</td>\n",
       "      <td>1.0</td>\n",
       "      <td>2</td>\n",
       "      <td>1</td>\n",
       "      <td>0.166667</td>\n",
       "    </tr>\n",
       "    <tr>\n",
       "      <th>4</th>\n",
       "      <td>102.0</td>\n",
       "      <td>37.419688</td>\n",
       "      <td>114.507235</td>\n",
       "      <td>1.0</td>\n",
       "      <td>2</td>\n",
       "      <td>2</td>\n",
       "      <td>0.166667</td>\n",
       "    </tr>\n",
       "  </tbody>\n",
       "</table>\n",
       "</div>"
      ],
      "text/plain": [
       "     lat        lng    datetime  uid  instance  instance_elem      prob\n",
       "0  102.0  37.068910  114.098359  1.0         1              1  0.166667\n",
       "1  102.0  37.419688  114.507235  1.0         1              2  0.166667\n",
       "2  102.0  37.774137  115.553705  1.0         1              3  0.166667\n",
       "3  102.0  37.068910  114.098359  1.0         2              1  0.166667\n",
       "4  102.0  37.419688  114.507235  1.0         2              2  0.166667"
      ]
     },
     "execution_count": 21,
     "metadata": {},
     "output_type": "execute_result"
    }
   ],
   "source": [
    "inst = at.assess_risk(privacy_trjs, force_instances=True, \n",
    "                      targets=list(privacy_trjs.uid.unique()[:1]), show_progress=True)\n",
    "inst.head()"
   ]
  },
  {
   "cell_type": "markdown",
   "metadata": {
    "hidden": true,
    "pycharm": {},
    "slideshow": {
     "slide_type": "subslide"
    }
   },
   "source": [
    "Complexity is dominated by the number of combinations, which depends on:\n",
    "- length of the background knowledge\n",
    "- average length of each user's trajectory. "
   ]
  },
  {
   "cell_type": "markdown",
   "metadata": {
    "hidden": true,
    "pycharm": {},
    "slideshow": {
     "slide_type": "subslide"
    }
   },
   "source": [
    "\\begin{equation*}\n",
    "\\mathcal{O} \\Bigl(  \\binom{l}{k} |T|  matching \\Bigr)\n",
    "\\end{equation*}\n",
    "\n",
    "- $l$ is the length of the current trajectory considered\n",
    "- $k$ is the background knowledge length\n",
    "- $T$ is the set of all target trajectories\n",
    "- $matching$ stands for the cost of the matching operation between each combination and the data."
   ]
  },
  {
   "cell_type": "markdown",
   "metadata": {
    "heading_collapsed": true,
    "pycharm": {},
    "slideshow": {
     "slide_type": "slide"
    }
   },
   "source": [
    "## Attack Models\n",
    "these are eight attack models, each with a different background knowledge:\n",
    " - `LocationAttack`: uses the locations visited.\n",
    " - `LocationSequenceAttack`: uses the locations visited with information about the order of visit\n",
    " - `LocationTimeAttack`: uses the locations visited and the time of visit. A precision for the time can be specified"
   ]
  },
  {
   "cell_type": "markdown",
   "metadata": {
    "hidden": true,
    "pycharm": {},
    "slideshow": {
     "slide_type": "subslide"
    }
   },
   "source": [
    "- `UniqueLocationAttack`: uses the unique locations visited, i.e., disregarding repeated visits to a same location. It operates on frequency vectors\n",
    "- `LocationFrequencyAttack`: uses the unique locations visited and the frequency with which they were visited. It operates on frequency vectors\n",
    "- `LocationProbabilityAttack`: uses the unique locations visited and the probability with which they were visited. It operates on probability vectors"
   ]
  },
  {
   "cell_type": "markdown",
   "metadata": {
    "hidden": true,
    "slideshow": {
     "slide_type": "slide"
    }
   },
   "source": [
    " - `LocationProportionAttack`: uses the unique locations visited and the relative proportion of the frequencies of visit. It operates on frequency vectors\n",
    " - `HomeWorkAttack`: uses the two most visited locations"
   ]
  },
  {
   "cell_type": "markdown",
   "metadata": {
    "heading_collapsed": true,
    "slideshow": {
     "slide_type": "slide"
    }
   },
   "source": [
    "## Understading the matching mechanic\n",
    "In the data folder of the scikit-mobility github, you can find a simple toy dataset that can be used to better understand the mechanics of every attack"
   ]
  },
  {
   "cell_type": "code",
   "execution_count": 22,
   "metadata": {
    "hidden": true
   },
   "outputs": [],
   "source": [
    "toy = TrajDataFrame.from_file(filename=\"./data/privacy_toy.csv\")"
   ]
  },
  {
   "cell_type": "code",
   "execution_count": 23,
   "metadata": {
    "hidden": true,
    "slideshow": {
     "slide_type": "slide"
    }
   },
   "outputs": [
    {
     "data": {
      "text/html": [
       "<div>\n",
       "<style scoped>\n",
       "    .dataframe tbody tr th:only-of-type {\n",
       "        vertical-align: middle;\n",
       "    }\n",
       "\n",
       "    .dataframe tbody tr th {\n",
       "        vertical-align: top;\n",
       "    }\n",
       "\n",
       "    .dataframe thead th {\n",
       "        text-align: right;\n",
       "    }\n",
       "</style>\n",
       "<table border=\"1\" class=\"dataframe\">\n",
       "  <thead>\n",
       "    <tr style=\"text-align: right;\">\n",
       "      <th></th>\n",
       "      <th>lat</th>\n",
       "      <th>lng</th>\n",
       "      <th>datetime</th>\n",
       "      <th>uid</th>\n",
       "    </tr>\n",
       "  </thead>\n",
       "  <tbody>\n",
       "    <tr>\n",
       "      <th>0</th>\n",
       "      <td>43.843014</td>\n",
       "      <td>10.507994</td>\n",
       "      <td>2011-02-03 08:34:04</td>\n",
       "      <td>1</td>\n",
       "    </tr>\n",
       "    <tr>\n",
       "      <th>1</th>\n",
       "      <td>43.544270</td>\n",
       "      <td>10.326150</td>\n",
       "      <td>2011-02-03 09:34:04</td>\n",
       "      <td>1</td>\n",
       "    </tr>\n",
       "    <tr>\n",
       "      <th>2</th>\n",
       "      <td>43.708530</td>\n",
       "      <td>10.403600</td>\n",
       "      <td>2011-02-03 10:34:04</td>\n",
       "      <td>1</td>\n",
       "    </tr>\n",
       "    <tr>\n",
       "      <th>3</th>\n",
       "      <td>43.779250</td>\n",
       "      <td>11.246260</td>\n",
       "      <td>2011-02-04 10:34:04</td>\n",
       "      <td>1</td>\n",
       "    </tr>\n",
       "    <tr>\n",
       "      <th>4</th>\n",
       "      <td>43.843014</td>\n",
       "      <td>10.507994</td>\n",
       "      <td>2011-02-03 08:34:04</td>\n",
       "      <td>2</td>\n",
       "    </tr>\n",
       "  </tbody>\n",
       "</table>\n",
       "</div>"
      ],
      "text/plain": [
       "         lat        lng            datetime  uid\n",
       "0  43.843014  10.507994 2011-02-03 08:34:04    1\n",
       "1  43.544270  10.326150 2011-02-03 09:34:04    1\n",
       "2  43.708530  10.403600 2011-02-03 10:34:04    1\n",
       "3  43.779250  11.246260 2011-02-04 10:34:04    1\n",
       "4  43.843014  10.507994 2011-02-03 08:34:04    2"
      ]
     },
     "execution_count": 23,
     "metadata": {},
     "output_type": "execute_result"
    }
   ],
   "source": [
    "toy.head()"
   ]
  },
  {
   "cell_type": "code",
   "execution_count": 24,
   "metadata": {
    "hidden": true,
    "slideshow": {
     "slide_type": "slide"
    }
   },
   "outputs": [
    {
     "data": {
      "text/html": [
       "<div>\n",
       "<style scoped>\n",
       "    .dataframe tbody tr th:only-of-type {\n",
       "        vertical-align: middle;\n",
       "    }\n",
       "\n",
       "    .dataframe tbody tr th {\n",
       "        vertical-align: top;\n",
       "    }\n",
       "\n",
       "    .dataframe thead th {\n",
       "        text-align: right;\n",
       "    }\n",
       "</style>\n",
       "<table border=\"1\" class=\"dataframe\">\n",
       "  <thead>\n",
       "    <tr style=\"text-align: right;\">\n",
       "      <th></th>\n",
       "      <th>lat</th>\n",
       "      <th>lng</th>\n",
       "      <th>datetime</th>\n",
       "      <th>uid</th>\n",
       "      <th>instance</th>\n",
       "      <th>instance_elem</th>\n",
       "      <th>prob</th>\n",
       "    </tr>\n",
       "  </thead>\n",
       "  <tbody>\n",
       "    <tr>\n",
       "      <th>0</th>\n",
       "      <td>43.843014</td>\n",
       "      <td>10.507994</td>\n",
       "      <td>2011-02-03 08:34:04</td>\n",
       "      <td>1</td>\n",
       "      <td>1</td>\n",
       "      <td>1</td>\n",
       "      <td>0.250000</td>\n",
       "    </tr>\n",
       "    <tr>\n",
       "      <th>1</th>\n",
       "      <td>43.544270</td>\n",
       "      <td>10.326150</td>\n",
       "      <td>2011-02-03 09:34:04</td>\n",
       "      <td>1</td>\n",
       "      <td>1</td>\n",
       "      <td>2</td>\n",
       "      <td>0.250000</td>\n",
       "    </tr>\n",
       "    <tr>\n",
       "      <th>2</th>\n",
       "      <td>43.843014</td>\n",
       "      <td>10.507994</td>\n",
       "      <td>2011-02-03 08:34:04</td>\n",
       "      <td>1</td>\n",
       "      <td>2</td>\n",
       "      <td>1</td>\n",
       "      <td>0.250000</td>\n",
       "    </tr>\n",
       "    <tr>\n",
       "      <th>3</th>\n",
       "      <td>43.708530</td>\n",
       "      <td>10.403600</td>\n",
       "      <td>2011-02-03 10:34:04</td>\n",
       "      <td>1</td>\n",
       "      <td>2</td>\n",
       "      <td>2</td>\n",
       "      <td>0.250000</td>\n",
       "    </tr>\n",
       "    <tr>\n",
       "      <th>4</th>\n",
       "      <td>43.843014</td>\n",
       "      <td>10.507994</td>\n",
       "      <td>2011-02-03 08:34:04</td>\n",
       "      <td>1</td>\n",
       "      <td>3</td>\n",
       "      <td>1</td>\n",
       "      <td>0.250000</td>\n",
       "    </tr>\n",
       "    <tr>\n",
       "      <th>5</th>\n",
       "      <td>43.779250</td>\n",
       "      <td>11.246260</td>\n",
       "      <td>2011-02-04 10:34:04</td>\n",
       "      <td>1</td>\n",
       "      <td>3</td>\n",
       "      <td>2</td>\n",
       "      <td>0.250000</td>\n",
       "    </tr>\n",
       "    <tr>\n",
       "      <th>6</th>\n",
       "      <td>43.544270</td>\n",
       "      <td>10.326150</td>\n",
       "      <td>2011-02-03 09:34:04</td>\n",
       "      <td>1</td>\n",
       "      <td>4</td>\n",
       "      <td>1</td>\n",
       "      <td>0.250000</td>\n",
       "    </tr>\n",
       "    <tr>\n",
       "      <th>7</th>\n",
       "      <td>43.708530</td>\n",
       "      <td>10.403600</td>\n",
       "      <td>2011-02-03 10:34:04</td>\n",
       "      <td>1</td>\n",
       "      <td>4</td>\n",
       "      <td>2</td>\n",
       "      <td>0.250000</td>\n",
       "    </tr>\n",
       "    <tr>\n",
       "      <th>8</th>\n",
       "      <td>43.544270</td>\n",
       "      <td>10.326150</td>\n",
       "      <td>2011-02-03 09:34:04</td>\n",
       "      <td>1</td>\n",
       "      <td>5</td>\n",
       "      <td>1</td>\n",
       "      <td>0.333333</td>\n",
       "    </tr>\n",
       "    <tr>\n",
       "      <th>9</th>\n",
       "      <td>43.779250</td>\n",
       "      <td>11.246260</td>\n",
       "      <td>2011-02-04 10:34:04</td>\n",
       "      <td>1</td>\n",
       "      <td>5</td>\n",
       "      <td>2</td>\n",
       "      <td>0.333333</td>\n",
       "    </tr>\n",
       "    <tr>\n",
       "      <th>10</th>\n",
       "      <td>43.708530</td>\n",
       "      <td>10.403600</td>\n",
       "      <td>2011-02-03 10:34:04</td>\n",
       "      <td>1</td>\n",
       "      <td>6</td>\n",
       "      <td>1</td>\n",
       "      <td>0.250000</td>\n",
       "    </tr>\n",
       "    <tr>\n",
       "      <th>11</th>\n",
       "      <td>43.779250</td>\n",
       "      <td>11.246260</td>\n",
       "      <td>2011-02-04 10:34:04</td>\n",
       "      <td>1</td>\n",
       "      <td>6</td>\n",
       "      <td>2</td>\n",
       "      <td>0.250000</td>\n",
       "    </tr>\n",
       "  </tbody>\n",
       "</table>\n",
       "</div>"
      ],
      "text/plain": [
       "          lat        lng            datetime  uid  instance  instance_elem  \\\n",
       "0   43.843014  10.507994 2011-02-03 08:34:04    1         1              1   \n",
       "1   43.544270  10.326150 2011-02-03 09:34:04    1         1              2   \n",
       "2   43.843014  10.507994 2011-02-03 08:34:04    1         2              1   \n",
       "3   43.708530  10.403600 2011-02-03 10:34:04    1         2              2   \n",
       "4   43.843014  10.507994 2011-02-03 08:34:04    1         3              1   \n",
       "5   43.779250  11.246260 2011-02-04 10:34:04    1         3              2   \n",
       "6   43.544270  10.326150 2011-02-03 09:34:04    1         4              1   \n",
       "7   43.708530  10.403600 2011-02-03 10:34:04    1         4              2   \n",
       "8   43.544270  10.326150 2011-02-03 09:34:04    1         5              1   \n",
       "9   43.779250  11.246260 2011-02-04 10:34:04    1         5              2   \n",
       "10  43.708530  10.403600 2011-02-03 10:34:04    1         6              1   \n",
       "11  43.779250  11.246260 2011-02-04 10:34:04    1         6              2   \n",
       "\n",
       "        prob  \n",
       "0   0.250000  \n",
       "1   0.250000  \n",
       "2   0.250000  \n",
       "3   0.250000  \n",
       "4   0.250000  \n",
       "5   0.250000  \n",
       "6   0.250000  \n",
       "7   0.250000  \n",
       "8   0.333333  \n",
       "9   0.333333  \n",
       "10  0.250000  \n",
       "11  0.250000  "
      ]
     },
     "execution_count": 24,
     "metadata": {},
     "output_type": "execute_result"
    }
   ],
   "source": [
    "at = attacks.LocationAttack(knowledge_length=2)\n",
    "r_toy = at.assess_risk(toy, targets=[1], force_instances=True)\n",
    "r_toy"
   ]
  },
  {
   "cell_type": "markdown",
   "metadata": {
    "hidden": true,
    "slideshow": {
     "slide_type": "subslide"
    }
   },
   "source": [
    "The background knowledge for a Location Attack consists of locations, with no information about the order of visits to it.\n",
    "If we look at the first background knowledge instance, the information used is then:"
   ]
  },
  {
   "cell_type": "code",
   "execution_count": 25,
   "metadata": {
    "hidden": true
   },
   "outputs": [
    {
     "data": {
      "text/html": [
       "<div>\n",
       "<style scoped>\n",
       "    .dataframe tbody tr th:only-of-type {\n",
       "        vertical-align: middle;\n",
       "    }\n",
       "\n",
       "    .dataframe tbody tr th {\n",
       "        vertical-align: top;\n",
       "    }\n",
       "\n",
       "    .dataframe thead th {\n",
       "        text-align: right;\n",
       "    }\n",
       "</style>\n",
       "<table border=\"1\" class=\"dataframe\">\n",
       "  <thead>\n",
       "    <tr style=\"text-align: right;\">\n",
       "      <th></th>\n",
       "      <th>lat</th>\n",
       "      <th>lng</th>\n",
       "    </tr>\n",
       "  </thead>\n",
       "  <tbody>\n",
       "    <tr>\n",
       "      <th>0</th>\n",
       "      <td>43.843014</td>\n",
       "      <td>10.507994</td>\n",
       "    </tr>\n",
       "    <tr>\n",
       "      <th>1</th>\n",
       "      <td>43.544270</td>\n",
       "      <td>10.326150</td>\n",
       "    </tr>\n",
       "  </tbody>\n",
       "</table>\n",
       "</div>"
      ],
      "text/plain": [
       "         lat        lng\n",
       "0  43.843014  10.507994\n",
       "1  43.544270  10.326150"
      ]
     },
     "execution_count": 25,
     "metadata": {},
     "output_type": "execute_result"
    }
   ],
   "source": [
    "from skmob.utils import constants\n",
    "toy[toy[constants.UID] == 1][[constants.LATITUDE, \n",
    "                                    constants.LONGITUDE]].iloc[0:2]"
   ]
  },
  {
   "cell_type": "markdown",
   "metadata": {
    "hidden": true,
    "slideshow": {
     "slide_type": "subslide"
    }
   },
   "source": [
    "We can clearly see that the matches for this instance are individuals 1, 2, 3 and 6"
   ]
  },
  {
   "cell_type": "code",
   "execution_count": 26,
   "metadata": {
    "hidden": true,
    "slideshow": {
     "slide_type": "subslide"
    }
   },
   "outputs": [
    {
     "data": {
      "text/html": [
       "<div>\n",
       "<style scoped>\n",
       "    .dataframe tbody tr th:only-of-type {\n",
       "        vertical-align: middle;\n",
       "    }\n",
       "\n",
       "    .dataframe tbody tr th {\n",
       "        vertical-align: top;\n",
       "    }\n",
       "\n",
       "    .dataframe thead th {\n",
       "        text-align: right;\n",
       "    }\n",
       "</style>\n",
       "<table border=\"1\" class=\"dataframe\">\n",
       "  <thead>\n",
       "    <tr style=\"text-align: right;\">\n",
       "      <th></th>\n",
       "      <th>lat</th>\n",
       "      <th>lng</th>\n",
       "      <th>datetime</th>\n",
       "      <th>uid</th>\n",
       "    </tr>\n",
       "  </thead>\n",
       "  <tbody>\n",
       "    <tr>\n",
       "      <th>0</th>\n",
       "      <td>43.843014</td>\n",
       "      <td>10.507994</td>\n",
       "      <td>2011-02-03 08:34:04</td>\n",
       "      <td>1</td>\n",
       "    </tr>\n",
       "    <tr>\n",
       "      <th>1</th>\n",
       "      <td>43.544270</td>\n",
       "      <td>10.326150</td>\n",
       "      <td>2011-02-03 09:34:04</td>\n",
       "      <td>1</td>\n",
       "    </tr>\n",
       "    <tr>\n",
       "      <th>2</th>\n",
       "      <td>43.708530</td>\n",
       "      <td>10.403600</td>\n",
       "      <td>2011-02-03 10:34:04</td>\n",
       "      <td>1</td>\n",
       "    </tr>\n",
       "    <tr>\n",
       "      <th>3</th>\n",
       "      <td>43.779250</td>\n",
       "      <td>11.246260</td>\n",
       "      <td>2011-02-04 10:34:04</td>\n",
       "      <td>1</td>\n",
       "    </tr>\n",
       "    <tr>\n",
       "      <th>4</th>\n",
       "      <td>43.843014</td>\n",
       "      <td>10.507994</td>\n",
       "      <td>2011-02-03 08:34:04</td>\n",
       "      <td>2</td>\n",
       "    </tr>\n",
       "    <tr>\n",
       "      <th>5</th>\n",
       "      <td>43.708530</td>\n",
       "      <td>10.403600</td>\n",
       "      <td>2011-02-03 09:34:04</td>\n",
       "      <td>2</td>\n",
       "    </tr>\n",
       "    <tr>\n",
       "      <th>6</th>\n",
       "      <td>43.843014</td>\n",
       "      <td>10.507994</td>\n",
       "      <td>2011-02-04 10:34:04</td>\n",
       "      <td>2</td>\n",
       "    </tr>\n",
       "    <tr>\n",
       "      <th>7</th>\n",
       "      <td>43.544270</td>\n",
       "      <td>10.326150</td>\n",
       "      <td>2011-02-04 11:34:04</td>\n",
       "      <td>2</td>\n",
       "    </tr>\n",
       "    <tr>\n",
       "      <th>8</th>\n",
       "      <td>43.544270</td>\n",
       "      <td>10.326150</td>\n",
       "      <td>2011-02-03 08:34:04</td>\n",
       "      <td>3</td>\n",
       "    </tr>\n",
       "    <tr>\n",
       "      <th>9</th>\n",
       "      <td>43.708530</td>\n",
       "      <td>10.403600</td>\n",
       "      <td>2011-02-03 09:34:04</td>\n",
       "      <td>3</td>\n",
       "    </tr>\n",
       "    <tr>\n",
       "      <th>10</th>\n",
       "      <td>43.843014</td>\n",
       "      <td>10.507994</td>\n",
       "      <td>2011-02-04 10:34:04</td>\n",
       "      <td>3</td>\n",
       "    </tr>\n",
       "    <tr>\n",
       "      <th>11</th>\n",
       "      <td>43.779250</td>\n",
       "      <td>11.246260</td>\n",
       "      <td>2011-02-04 11:34:04</td>\n",
       "      <td>3</td>\n",
       "    </tr>\n",
       "    <tr>\n",
       "      <th>18</th>\n",
       "      <td>43.843014</td>\n",
       "      <td>10.507994</td>\n",
       "      <td>2011-02-04 10:34:04</td>\n",
       "      <td>6</td>\n",
       "    </tr>\n",
       "    <tr>\n",
       "      <th>19</th>\n",
       "      <td>43.544270</td>\n",
       "      <td>10.326150</td>\n",
       "      <td>2011-02-04 11:34:04</td>\n",
       "      <td>6</td>\n",
       "    </tr>\n",
       "  </tbody>\n",
       "</table>\n",
       "</div>"
      ],
      "text/plain": [
       "          lat        lng            datetime  uid\n",
       "0   43.843014  10.507994 2011-02-03 08:34:04    1\n",
       "1   43.544270  10.326150 2011-02-03 09:34:04    1\n",
       "2   43.708530  10.403600 2011-02-03 10:34:04    1\n",
       "3   43.779250  11.246260 2011-02-04 10:34:04    1\n",
       "4   43.843014  10.507994 2011-02-03 08:34:04    2\n",
       "5   43.708530  10.403600 2011-02-03 09:34:04    2\n",
       "6   43.843014  10.507994 2011-02-04 10:34:04    2\n",
       "7   43.544270  10.326150 2011-02-04 11:34:04    2\n",
       "8   43.544270  10.326150 2011-02-03 08:34:04    3\n",
       "9   43.708530  10.403600 2011-02-03 09:34:04    3\n",
       "10  43.843014  10.507994 2011-02-04 10:34:04    3\n",
       "11  43.779250  11.246260 2011-02-04 11:34:04    3\n",
       "18  43.843014  10.507994 2011-02-04 10:34:04    6\n",
       "19  43.544270  10.326150 2011-02-04 11:34:04    6"
      ]
     },
     "execution_count": 26,
     "metadata": {},
     "output_type": "execute_result"
    }
   ],
   "source": [
    "toy[toy[constants.UID].isin([1,2,3,6])]"
   ]
  },
  {
   "cell_type": "markdown",
   "metadata": {
    "heading_collapsed": true,
    "pycharm": {},
    "slideshow": {
     "slide_type": "slide"
    }
   },
   "source": [
    "## Additional parameters for attacks\n",
    "\n",
    "Some attacks, such as `LocationTimeAttack`, need additional parameters. Find in the <a href=\"https://scikit-mobility.github.io/scikit-mobility/reference/privacy.html\">doc</a> details of each attack. Let's see an example of a powerful attack.\n",
    "\n",
    "`LocationTimeAttack` uses the informaton about the location visited and the time of visit "
   ]
  },
  {
   "cell_type": "code",
   "execution_count": 27,
   "metadata": {
    "hidden": true,
    "pycharm": {},
    "slideshow": {
     "slide_type": "-"
    }
   },
   "outputs": [],
   "source": [
    "# time_precision is the precision with witch to consider the temporal information \n",
    "at = attacks.LocationTimeAttack(knowledge_length=2, time_precision=\"Day\")"
   ]
  },
  {
   "cell_type": "code",
   "execution_count": 28,
   "metadata": {
    "hidden": true,
    "pycharm": {},
    "scrolled": false,
    "slideshow": {
     "slide_type": "subslide"
    }
   },
   "outputs": [],
   "source": [
    "r_time = at.assess_risk(privacy_trjs)"
   ]
  },
  {
   "cell_type": "code",
   "execution_count": 29,
   "metadata": {
    "hidden": true,
    "slideshow": {
     "slide_type": "fragment"
    }
   },
   "outputs": [
    {
     "data": {
      "text/html": [
       "<div>\n",
       "<style scoped>\n",
       "    .dataframe tbody tr th:only-of-type {\n",
       "        vertical-align: middle;\n",
       "    }\n",
       "\n",
       "    .dataframe tbody tr th {\n",
       "        vertical-align: top;\n",
       "    }\n",
       "\n",
       "    .dataframe thead th {\n",
       "        text-align: right;\n",
       "    }\n",
       "</style>\n",
       "<table border=\"1\" class=\"dataframe\">\n",
       "  <thead>\n",
       "    <tr style=\"text-align: right;\">\n",
       "      <th></th>\n",
       "      <th>uid</th>\n",
       "      <th>risk</th>\n",
       "    </tr>\n",
       "  </thead>\n",
       "  <tbody>\n",
       "    <tr>\n",
       "      <th>0</th>\n",
       "      <td>102</td>\n",
       "      <td>1.0</td>\n",
       "    </tr>\n",
       "    <tr>\n",
       "      <th>1</th>\n",
       "      <td>103</td>\n",
       "      <td>1.0</td>\n",
       "    </tr>\n",
       "    <tr>\n",
       "      <th>2</th>\n",
       "      <td>104</td>\n",
       "      <td>1.0</td>\n",
       "    </tr>\n",
       "    <tr>\n",
       "      <th>3</th>\n",
       "      <td>105</td>\n",
       "      <td>1.0</td>\n",
       "    </tr>\n",
       "    <tr>\n",
       "      <th>4</th>\n",
       "      <td>132</td>\n",
       "      <td>1.0</td>\n",
       "    </tr>\n",
       "  </tbody>\n",
       "</table>\n",
       "</div>"
      ],
      "text/plain": [
       "   uid  risk\n",
       "0  102   1.0\n",
       "1  103   1.0\n",
       "2  104   1.0\n",
       "3  105   1.0\n",
       "4  132   1.0"
      ]
     },
     "execution_count": 29,
     "metadata": {},
     "output_type": "execute_result"
    }
   ],
   "source": [
    "r_time.head()"
   ]
  },
  {
   "cell_type": "code",
   "execution_count": 30,
   "metadata": {
    "hidden": true,
    "slideshow": {
     "slide_type": "fragment"
    }
   },
   "outputs": [
    {
     "data": {
      "text/html": [
       "<div>\n",
       "<style scoped>\n",
       "    .dataframe tbody tr th:only-of-type {\n",
       "        vertical-align: middle;\n",
       "    }\n",
       "\n",
       "    .dataframe tbody tr th {\n",
       "        vertical-align: top;\n",
       "    }\n",
       "\n",
       "    .dataframe thead th {\n",
       "        text-align: right;\n",
       "    }\n",
       "</style>\n",
       "<table border=\"1\" class=\"dataframe\">\n",
       "  <thead>\n",
       "    <tr style=\"text-align: right;\">\n",
       "      <th></th>\n",
       "      <th>uid</th>\n",
       "      <th>risk</th>\n",
       "    </tr>\n",
       "  </thead>\n",
       "  <tbody>\n",
       "  </tbody>\n",
       "</table>\n",
       "</div>"
      ],
      "text/plain": [
       "Empty DataFrame\n",
       "Columns: [uid, risk]\n",
       "Index: []"
      ]
     },
     "execution_count": 30,
     "metadata": {},
     "output_type": "execute_result"
    }
   ],
   "source": [
    "r_time[r_time[\"risk\"] < 1]"
   ]
  },
  {
   "cell_type": "markdown",
   "metadata": {
    "hidden": true
   },
   "source": [
    "We can see that, for powerful attacks, risk can be really high, despite our efforts to generalize trajectories."
   ]
  },
  {
   "cell_type": "markdown",
   "metadata": {
    "heading_collapsed": true,
    "pycharm": {},
    "slideshow": {
     "slide_type": "slide"
    }
   },
   "source": [
    "## Visualizing and understanding risk\n",
    "Risk may be visualized in many different ways. A very simple and intuitive way is a cumulative distribution function."
   ]
  },
  {
   "cell_type": "code",
   "execution_count": 31,
   "metadata": {
    "hidden": true
   },
   "outputs": [],
   "source": [
    "import numpy as np\n",
    "import matplotlib.pyplot as plt"
   ]
  },
  {
   "cell_type": "code",
   "execution_count": 32,
   "metadata": {
    "hidden": true,
    "pycharm": {},
    "slideshow": {
     "slide_type": "fragment"
    }
   },
   "outputs": [],
   "source": [
    "results = [r2,r3,r_time]\n",
    "colors = [\"red\",\"blue\",\"green\"]\n",
    "styles = [\"-\",\"--\",\":\"]\n",
    "labels = [\"Frequency k2\", \"Frequency k3\", \"Location Time k2 Hour\"]\n",
    "fontsize = 20"
   ]
  },
  {
   "cell_type": "code",
   "execution_count": 33,
   "metadata": {
    "code_folding": [
     3
    ],
    "hidden": true,
    "slideshow": {
     "slide_type": "subslide"
    }
   },
   "outputs": [
    {
     "data": {
      "image/png": "[encoded data removed]",
      "text/plain": [
       "<Figure size 864x576 with 1 Axes>"
      ]
     },
     "metadata": {
      "needs_background": "light"
     },
     "output_type": "display_data"
    }
   ],
   "source": [
    "plt.figure(figsize=(12,8))\n",
    "for i in range(0,len(results)):\n",
    "    data = results[i][\"risk\"].tolist()\n",
    "    values, base = np.histogram(data, bins=1000)\n",
    "    cumulative = np.cumsum(values)\n",
    "    plt.plot(base[:-1],cumulative/len(data), c=colors[i], label=labels[i], linestyle=styles[i],linewidth=3)\n",
    "plt.xlim(0,1.1)\n",
    "plt.xlabel(\"risk\",size=fontsize)\n",
    "plt.ylabel(\"p(risk)\", size=fontsize)\n",
    "plt.xticks(size=fontsize-5)\n",
    "plt.yticks(size=fontsize-5)\n",
    "plt.grid(alpha=0.25)\n",
    "plt.figlegend(labels, loc = 'lower center',bbox_to_anchor=(0.45, -0.01), ncol=3,  fontsize = fontsize-5, labelspacing=0. )\n",
    "plt.show()"
   ]
  },
  {
   "cell_type": "markdown",
   "metadata": {
    "slideshow": {
     "slide_type": "slide"
    }
   },
   "source": [
    "# Conclusions\n",
    "- Evaluating risk is not an immediate task. It depends on the kind of data you are using, on the purpose of your analysis, on the properties you want to maintain.\n",
    "- Privacy risk has to be explored thoroughly with different attack models and different configurations\n",
    "- For mobility data preprocessing data is paramount. Risk assessment can be performed with diversely processed data in order to understand the \"best\" format for release"
   ]
  }
 ],
 "metadata": {
  "celltoolbar": "Slideshow",
  "hide_input": false,
  "kernelspec": {
   "display_name": "Python [conda env:skmob]",
   "language": "python",
   "name": "skmob"
  },
  "language_info": {
   "codemirror_mode": {
    "name": "ipython",
    "version": 3
   },
   "file_extension": ".py",
   "mimetype": "text/x-python",
   "name": "python",
   "nbconvert_exporter": "python",
   "pygments_lexer": "ipython3",
   "version": "3.7.6"
  },
  "latex_envs": {
   "LaTeX_envs_menu_present": true,
   "autoclose": false,
   "autocomplete": true,
   "bibliofile": "biblio.bib",
   "cite_by": "apalike",
   "current_citInitial": 1,
   "eqLabelWithNumbers": true,
   "eqNumInitial": 1,
   "hotkeys": {
    "equation": "Ctrl-E",
    "itemize": "Ctrl-I"
   },
   "labels_anchors": false,
   "latex_user_defs": false,
   "report_style_numbering": true,
   "user_envs_cfg": false
  }
 },
 "nbformat": 4,
 "nbformat_minor": 2
}
